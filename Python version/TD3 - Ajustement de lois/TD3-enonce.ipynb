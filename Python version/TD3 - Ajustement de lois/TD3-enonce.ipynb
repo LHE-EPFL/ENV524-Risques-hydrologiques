{
 "cells": [
  {
   "cell_type": "markdown",
   "id": "239c78d1-10c3-4fa7-92ac-d7d04e74c835",
   "metadata": {},
   "source": [
    "# Séance 3 : Ajustement de lois\n",
    "### Professeur : Christophe Ancey\n",
    "#### Assistants : \n",
    "- Yanan Chen\n",
    "- Sofi Farazande\n",
    "- Clemente Gotelli\n",
    "---"
   ]
  },
  {
   "cell_type": "markdown",
   "id": "7a3c7ce3-8f74-4703-8e4d-c1198bfaea65",
   "metadata": {},
   "source": [
    "# 1. Méthode des moments \n",
    "\n",
    "L'ajustement le plus simple est de chercher la loi ayant les mêmes moments que les données. Les moments des données sont :  \n",
    "\n",
    "| Moyenne ($1^{er}$ moment) | $E=\\int X dP = \\frac 1N \\sum x_i$                            |  \n",
    "|:-|:-|\n",
    "| **Variance ($2^{e}$ moment)**| $\\sigma^2=\\int (X-\\mu)^{2} dP = \\frac 1N \\sum (x_i-\\mu)^{2}$ |  "
   ]
  },
  {
   "cell_type": "markdown",
   "id": "43acfb64-3a30-487e-b473-cdb960348907",
   "metadata": {
    "tags": []
   },
   "source": [
    "Le nombre de paramètres de la loi donne le nombre de moments à égaliser. Trois séries de données (*serie01.txt, serie02.txt et serie03.txt*) ont été obtenues lors d'expériences et on cherche à leur affecter l'une des lois de probabilité suivante : loi log-normale, loi binomiale négative et loi de Poisson.  \n",
    "#### Exercices"
   ]
  },
  {
   "cell_type": "markdown",
   "id": "8df511bc-bae2-4a95-a398-8bc9867695e3",
   "metadata": {},
   "source": [
    "1. Donner les principales caractéristiques de ces trois lois (on pourra s'aider d'internet), à savoir le nombre de paramètres, la moyenne et la variance. Quelles sont leurs particularités respectives ?\n",
    "\n",
    "**Solution:**"
   ]
  },
  {
   "cell_type": "code",
   "execution_count": null,
   "id": "85ca3b80-5daa-4567-bddf-57e8374ae333",
   "metadata": {},
   "outputs": [],
   "source": []
  },
  {
   "cell_type": "markdown",
   "id": "a430ba89-06ca-45d3-86f8-1214b83aa37a",
   "metadata": {},
   "source": [
    "2. Calculer les densités de probabilité (pdf) de ces trois séries et tracer les avec leurs pdf théoriques ajustées à l'aide de la méthode des moments.`[hist/histplot, scipy.stats.nbinom.pmf, scipy.stats.poisson.pmf, scipy.stats.lognorm.pdf]`\n",
    "\n",
    "**Solution:**"
   ]
  },
  {
   "cell_type": "code",
   "execution_count": null,
   "id": "d11e7cf3-6677-4ac9-815e-93aa2a872033",
   "metadata": {},
   "outputs": [],
   "source": []
  },
  {
   "cell_type": "markdown",
   "id": "e451bcd7-a03f-4c11-af5e-006da56e22de",
   "metadata": {},
   "source": [
    "3. Pour chacune de ces séries, tracer un diagramme quantile experimental/quantile théorique ainsi que la droite $y=x$. `[scipy.stats.nbinom.ppf, scipy.stats.poisson.ppf, scipy.stats.lognorm.ppf]`\n",
    "\n",
    "**Solution:**"
   ]
  },
  {
   "cell_type": "code",
   "execution_count": null,
   "id": "605e4545-167b-4063-b84e-550a8749a68a",
   "metadata": {},
   "outputs": [],
   "source": []
  },
  {
   "cell_type": "markdown",
   "id": "4c239651-7916-465c-9304-c13403680e5c",
   "metadata": {},
   "source": [
    "4. Que dire de ce diagramme pour la série 3 ?\n",
    "\n",
    "**Solution:**"
   ]
  },
  {
   "cell_type": "code",
   "execution_count": null,
   "id": "1c0e4684-14fc-4661-8aad-e563859dc511",
   "metadata": {},
   "outputs": [],
   "source": []
  },
  {
   "cell_type": "markdown",
   "id": "2c3f7638-8db1-4c20-a2a1-53e125b2c0ad",
   "metadata": {},
   "source": [
    "# 2. Méthode du maximum de vraisemblance\n",
    " \n",
    "Nous allons dans cette section appliquer la méthode du maximum de vraisemblance aux données *seriegamma.txt*. Nous voulons ici caler une loi Gamma à deux paramètres.\n",
    "#### Exercices\n",
    "1. Pour commencer nous allons créer une fonction Python qui calcule l'opposée de la log-vraisemblance $l(\\kappa,\\lambda)$ lorsqu'on lui donne les paramètres $(\\kappa,\\lambda)$ et les données $x_i$. La vraisemblance est définie de la manière suivante:\n",
    "$$\n",
    "L(\\kappa,\\lambda) = \\prod_{i=1}^N G_a[\\lambda,\\kappa](x_i).\n",
    "$$\n",
    "  \n",
    "- Calculer **analytiquement** la fonction $l(\\kappa,\\lambda,x_i)=-$ln$(L)$ et simplifier au maximum son expression.  \n",
    "\n",
    "**Solution:**"
   ]
  },
  {
   "cell_type": "code",
   "execution_count": null,
   "id": "1dbdb124-8ec4-4c96-bf81-568e3c170506",
   "metadata": {},
   "outputs": [],
   "source": []
  },
  {
   "cell_type": "markdown",
   "id": "71e8150a-6bb8-4c49-8d7a-b20997a9afc9",
   "metadata": {},
   "source": [
    "- Pour créer une fonction dans Python, il faut créer un fonction **mafonction**. (cf premier TD) La syntaxe est ensuite du type : `def` `scipy.special.gamma`\n",
    "\n",
    "    ```python\n",
    "    def mafonction(kappa, Lambda, x):\n",
    "        lvrai = ...;\n",
    "        return Lvrai\n",
    "    ```\n",
    "    \n",
    "Une fois que cette fonction est créée, la commande fonction `mafonction`$(k,l,x)$ vous donne l'opposé de la valeur de la log-vraisemblance correspondant au triplet $(k,l,x)$.\n",
    "\n",
    "Insérer l'expression analytique trouvée dans `mafonction`. \n",
    "\n",
    "**Solution:**"
   ]
  },
  {
   "cell_type": "code",
   "execution_count": null,
   "id": "97fa319d-b7b7-445f-b4f6-e11016b98a68",
   "metadata": {},
   "outputs": [],
   "source": []
  },
  {
   "cell_type": "markdown",
   "id": "c6e33b0d-2eeb-4632-8e06-60927b900538",
   "metadata": {},
   "source": [
    "2. Nous allons ensuite chercher le minimum de la fonction créée avec la fonction: `mafonction`$(k,l,x)$\n",
    "\n",
    "Ici, on cherche la valeur qui minimise `mafonction`. Comme notre fonction a deux paramètres, nous allons effectuer une recherche par itérations. L'algorithme est le suivant :\n",
    "\n",
    "\n",
    "- Fixer un paramètre $k$ arbitrairement\n",
    "- Pour i=1...100:\n",
    "    - Utiliser `lambda` pour créer une nouvelle fonction qui ne contient que la variable $l$:\n",
    "    \n",
    "        ```python\n",
    "        lambda l: mafonction(k, l, data)\n",
    "        ```\n",
    "    \n",
    "    Calculer la borne inférieure de $l$ avec la fonction `scipy.optimize.fminbound` dans l'interval [0, 10].\n",
    "    - Utiliser `lambda` pour créer une nouvelle fonction qui ne contient que la variable $k$:\n",
    "    \n",
    "        ```python\n",
    "        lambda k: mafonction(k, l, data)\n",
    "        ```\n",
    "    \n",
    "    Calculer la borne inférieure de $k$ avec la fonction `scipy.optimize.fminbound` dans l'interval [0, 10].\n",
    " \n",
    "- Fin de la boucle.\n",
    "\n",
    "Coder cet algorithme.\n",
    "\n",
    "**Solution:**"
   ]
  },
  {
   "cell_type": "code",
   "execution_count": null,
   "id": "75f14605",
   "metadata": {},
   "outputs": [],
   "source": []
  },
  {
   "cell_type": "markdown",
   "id": "112a63e6-e63a-4cbc-93d3-f3431a8d1681",
   "metadata": {},
   "source": [
    "3. L'algorithme converge t'il ? Tracer la densité de probabilité de la loi ajustée, et la comparer à celle obtenue grâce à la méthode des moments et la méthode des empiriques. `scipy.stats.gamma.pdf`\n",
    "\n",
    "**Solution:**"
   ]
  },
  {
   "cell_type": "code",
   "execution_count": null,
   "id": "b6d2478c",
   "metadata": {},
   "outputs": [],
   "source": []
  },
  {
   "cell_type": "markdown",
   "id": "9646eadb-68d7-464a-a02c-d64b4cdb2484",
   "metadata": {},
   "source": [
    "# 3. Ajustement de lois de valeurs extrêmes sur des données\n",
    "\n",
    "Nous allons maintenant faire un ajustement de loi de valeurs extrêmes sur les données de températures et de précipitations à Davos. Il s'agit de déterminer le type de loi de valeurs extrêmes (Weibull, Gumbel ou Fréchet) qui décrit le mieux le comportement des maxima de chaque série. Dans cette exercice, nous utiliserons directement la fonction `scipy.stats.genextreme.gev.fit` qui estime les paramètres de la loi généralisée des valeurs extrêmes par la méthode du maximum de vraisemblance vue dans l'exercice précédent.\n",
    "Nous procédons de la manière suivante :  \n",
    "- Définir des blocs (classiquement des années)\n",
    "- Calculer le maximum de chaque bloc (donc par exemple le maximum annuel)\n",
    "- Utiliser ces maxima pour caler la loi des valeurs extrêmes\n",
    "- Tracer cette loi et comparer avec la courbe empirique.\n",
    "#### Exercices"
   ]
  },
  {
   "cell_type": "markdown",
   "id": "39f76df3-650e-4112-b523-4b2a94afc976",
   "metadata": {},
   "source": [
    "1. **Précipitations**  \n",
    "De quel type (Gumbel, Fréchet ou Weibull) est la distribution de la dernière colonne? `numpy.where` `scipy.stats.genextreme.gev.fit`\n",
    "\n",
    "**Solution:**"
   ]
  },
  {
   "cell_type": "code",
   "execution_count": null,
   "id": "58dadd17-e3ff-4a85-8914-c169ee168336",
   "metadata": {},
   "outputs": [],
   "source": []
  },
  {
   "cell_type": "markdown",
   "id": "635ce0ce-fa2c-4561-9b9f-fe92517a3da7",
   "metadata": {},
   "source": [
    "2. **Températures**  \n",
    "Le fichier possède plusieurs colonnes de données, les trois dernières colonnes représentent la température à 7h, 13h et 21h. Choisissez-en une et trouver la loi de valeurs extrêmes qui convient le mieux pour décrire la distribution des maxima:\n",
    "- Tracer les densités de probabilité (pdf) et les fonctions de distribution cumulative (cdf) `scipy.stats.genextreme.gev.pdf` `scipy.stats.genextreme.gev.cdf`  \n",
    "\n",
    "**Solution:**"
   ]
  },
  {
   "cell_type": "code",
   "execution_count": null,
   "id": "ceb7a4bc-979e-4a8d-960b-75b75d807ba4",
   "metadata": {},
   "outputs": [],
   "source": []
  },
  {
   "cell_type": "markdown",
   "id": "5d2c5922-3126-4bf9-90e4-5a189b8f3570",
   "metadata": {},
   "source": [
    "- Calculer le temps de retour de différentes températures\n",
    "\n",
    "**Solution:**"
   ]
  },
  {
   "cell_type": "code",
   "execution_count": null,
   "id": "9ab3a758-e3ba-4b25-877b-044fb7e5b270",
   "metadata": {},
   "outputs": [],
   "source": []
  },
  {
   "cell_type": "markdown",
   "id": "cf0ff36e-3a2f-4b89-b6a9-031600cce6be",
   "metadata": {},
   "source": [
    "3. **Trouver la meilleure distribution**  \n",
    "La distribution de Weibull est-elle la meilleure solution? Nous n'en sommes pas sûrs. Dans cette question, nous allons essayer de trouver la distribution la mieux adaptée aux données.\n",
    "Ici, nous utilisons le package fitter pour le faire (voir plus d'informations sur [ce site](https://fitter.readthedocs.io/en/latest/index.html)). Il faut l'installer (`!pip install fitter`) et l'importer `Fitter` à partir de celui-ci.\n",
    "\n",
    "Utiliser `Fitter` pour ajuster l'ensemble de données. Vous pouvez utiliser la distribution de votre choix.\n",
    "\n",
    "**Solution:**"
   ]
  },
  {
   "cell_type": "code",
   "execution_count": null,
   "id": "fae860d4-c3bc-474c-9f06-829206b39070",
   "metadata": {},
   "outputs": [],
   "source": []
  }
 ],
 "metadata": {
  "kernelspec": {
   "display_name": "Python",
   "language": "python",
   "name": "python3"
  },
  "language_info": {
   "codemirror_mode": {
    "name": "ipython",
    "version": 3
   },
   "file_extension": ".py",
   "mimetype": "text/x-python",
   "name": "python",
   "nbconvert_exporter": "python",
   "pygments_lexer": "ipython3",
   "version": "3.8.10"
  }
 },
 "nbformat": 4,
 "nbformat_minor": 5
}
