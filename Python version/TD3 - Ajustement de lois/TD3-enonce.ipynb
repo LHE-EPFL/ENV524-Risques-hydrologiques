{
 "cells": [
  {
   "cell_type": "markdown",
   "id": "239c78d1-10c3-4fa7-92ac-d7d04e74c835",
   "metadata": {},
   "source": [
    "# Séance 3 : Ajustement de lois\n",
    "### Professeur : Christophe Ancey\n",
    "#### Assistants : \n",
    "- Yanan Chen\n",
    "- Sofi Farazande\n",
    "- Clemente Gotelli\n",
    "---"
   ]
  },
  {
   "cell_type": "markdown",
   "id": "0e4de613-37a3-4e82-ba94-cd4e2ab27144",
   "metadata": {},
   "source": [
    "## Quelques lois de probabilités\n",
    "<center>Table 1 - Quelques lois de probabilités</center>\n",
    "\n",
    "| Loi                | Expression                                      | Moyenne | Variance |\n",
    "|:------------------|:-----------------------------------------------:|:-------|:--------:|\n",
    "| Poisson            |$$P(\\lambda)(k)=\\frac{\\lambda^k}{k!}e^{-\\lambda}$$|$$\\lambda$$|$$\\lambda$$|\n",
    "|Binômiale négative |  $$Neg(r,p)(k)=\\frac{\\Gamma(k + r)}{k!\\Gamma(r)}p^r(1-p)^k$$| $$k(1-p)/p$$ | $$ k(1-p)/p^2$$|\n",
    "|Log-normale |  $$LogN(\\mu,\\sigma)(x)=\\frac{1}{x\\sigma\\sqrt{2\\pi}} \\exp \\left( -\\left[\\mbox{ln}(x)-\\mu\\right]^2/(2\\sigma^2)\\right)$$ | $$e^{\\mu+\\sigma^2/2}$$ |  $$(e^{\\sigma^2}-1)e^{2\\mu+\\sigma^2}$$ |\n",
    "|Gamma |  $$G(\\lambda,\\kappa)(x)=\\frac{\\lambda ^\\kappa}{\\Gamma(\\kappa)}x^{\\kappa-1}e^{-\\lambda x}$$ |   $$k /\\lambda$$ | $$  k /\\lambda^2$$ |\n",
    "|Normale |   $$N(\\mu,\\sigma)(x)=\\frac{1}{\\sqrt{2 \\pi}\\sigma}e^{-\\frac{(x-\\mu)^2}{2\\sigma^2}}$$ | $$\\mu$$ | $$\\sigma^2$$ |\n",
    "|Exponentielle | $$E(\\lambda)(x)=\\lambda e^{-\\lambda x}$$ |$$1/\\lambda$$|$$1/\\lambda^2$$|\n",
    "|Valeurs extrêmes |  $$P(\\mu,\\sigma,\\xi)(x)=\\exp\\left[-\\left(1+\\xi\\cdot\\frac{x-\\mu}{\\sigma}\\right)^{1/\\xi}\\right]$$ | - | - |"
   ]
  },
  {
   "cell_type": "markdown",
   "id": "f94bace2-1f43-4bf0-a6cd-4d3038717a4c",
   "metadata": {},
   "source": [
    "---"
   ]
  },
  {
   "cell_type": "markdown",
   "id": "7a3c7ce3-8f74-4703-8e4d-c1198bfaea65",
   "metadata": {},
   "source": [
    "# 1. Méthode des moments *(rappel séance 2)*\n",
    "\n",
    "L'ajustement le plus simple est de chercher la loi ayant les mêmes moments que les données. Les moments des données sont :  \n",
    "\n",
    "| Moyenne ($1^{er}$ moment) | $E=\\int X dP = \\frac 1N \\sum x_i$                            |  \n",
    "|:-|:-|\n",
    "| **Variance ($2^{e}$ moment)**| $\\sigma^2=\\int (X-\\mu)^{2} dP = \\frac 1N \\sum (x_i-\\mu)^{2}$ |  "
   ]
  },
  {
   "cell_type": "markdown",
   "id": "43acfb64-3a30-487e-b473-cdb960348907",
   "metadata": {},
   "source": [
    "Le nombre de paramètres de la loi donne le nombre de moments à égaliser. Trois séries de données (*serie01.txt, serie02.txt et serie03.txt*) ont été obtenues lors d'expériences et on cherche à leur affecter l'une des lois de probabilité suivante : loi log-normale, loi binomiale négative et loi de Poisson.  \n",
    "#### Exercices"
   ]
  },
  {
   "cell_type": "markdown",
   "id": "8df511bc-bae2-4a95-a398-8bc9867695e3",
   "metadata": {},
   "source": [
    "1. Donner les principales caractéristiques de ces trois lois (on pourra s'aider d'internet), à savoir le nombre de paramètres, la moyenne et la variance. Quelles sont leurs particularités respectives ?\n",
    "\n",
    "**Solution:**"
   ]
  },
  {
   "cell_type": "code",
   "execution_count": null,
   "id": "42d66cbf-6dac-48b6-be76-e739df397f30",
   "metadata": {},
   "outputs": [],
   "source": []
  },
  {
   "cell_type": "markdown",
   "id": "a430ba89-06ca-45d3-86f8-1214b83aa37a",
   "metadata": {},
   "source": [
    "2. Calculer les densités de probabilité (pdf) de ces trois séries et tracer les avec leurs pdf théoriques ajustées à l'aide de la méthode des moments.`[hist, nbinom.pmf, poisson.pmf, lognorm.pdf]`\n",
    "\n",
    "**Solution:**"
   ]
  },
  {
   "cell_type": "code",
   "execution_count": null,
   "id": "0ea8935f-b003-423f-b933-95d0cf56a5d5",
   "metadata": {},
   "outputs": [],
   "source": []
  },
  {
   "cell_type": "markdown",
   "id": "e451bcd7-a03f-4c11-af5e-006da56e22de",
   "metadata": {},
   "source": [
    "3. Pour chacune de ces séries, tracer un diagramme quantile experimental/quantile théorique ainsi que la droite $y=x$. `[nbinom.ppf, poisson.ppf, lognorm.ppf]`\n",
    "\n",
    "**Solution:**"
   ]
  },
  {
   "cell_type": "code",
   "execution_count": null,
   "id": "76e262fb-1462-43a1-96f2-b76fd2fe9709",
   "metadata": {},
   "outputs": [],
   "source": []
  },
  {
   "cell_type": "markdown",
   "id": "4c239651-7916-465c-9304-c13403680e5c",
   "metadata": {},
   "source": [
    "4. Que dire de ce diagramme pour la série 3 ?\n",
    "\n",
    "**Solution:**"
   ]
  },
  {
   "cell_type": "code",
   "execution_count": null,
   "id": "2d133b5e-1167-4b32-b3cf-d560c500d9dd",
   "metadata": {},
   "outputs": [],
   "source": []
  },
  {
   "cell_type": "markdown",
   "id": "27e24778-f5a5-4435-bc89-67b75dd55f79",
   "metadata": {},
   "source": [
    "The data of serie03 is relatively concentrated compared to serie01 and serie02"
   ]
  },
  {
   "cell_type": "markdown",
   "id": "00e38fbb-0fcc-4b00-9a07-a8331ca77f9b",
   "metadata": {},
   "source": [
    "# 2. Méthode du maximum de vraisemblance\n",
    " \n",
    "Nous allons dans cette section appliquer la méthode du maximum de vraisemblance aux données *seriegamma.txt*. Nous voulons ici caler une loi Gamma à deux paramètres.\n",
    "#### Exercices\n",
    "1. Pour commencer nous allons créer une fonction Matlab qui calcule l'opposée de la log-vraisemblance $l(\\kappa,\\lambda)$ lorsqu'on lui donne les paramètres $(\\kappa,\\lambda)$ et les données $x_i$. La vraisemblance est définie de la manière suivante:\n",
    "$$\n",
    "L(\\kappa,\\lambda) = \\prod_{i=1}^N G_a[\\lambda,\\kappa](x_i).\n",
    "$$\n",
    "  \n",
    "- Calculer **analytiquement** la fonction $l(\\kappa,\\lambda,x_i)=-$ln$(L)$ et simplifier au maximum son expression.\n",
    "- Pour créer une fonction dans matlab, il faut créer un fichie **mafonction.m**. (cf premier TD) La syntaxe est ensuite du type :\n",
    "\n",
    "    ```Matlab\n",
    "    function lvrai = mafonction(l,k,x):\n",
    "        lvrai = - (l * k * x *...);\n",
    "    end\n",
    "    ```\n",
    "    \n",
    "Une fois cette fonction créée, la commande matlab `mafonction(l,k,x)` vous donne l'opposé de la valeur de la log-vraisemblance correspondant au triplet $(l,k,x)$.\n",
    "\n",
    "- Modifier l'exemple ci-dessus avec l'expression analytique trouvée. \n",
    "\n",
    "**Solution:**"
   ]
  },
  {
   "cell_type": "code",
   "execution_count": null,
   "id": "7784cf96-0ee5-4b77-b6cd-f4e589abacdf",
   "metadata": {},
   "outputs": [],
   "source": []
  },
  {
   "cell_type": "markdown",
   "id": "c6e33b0d-2eeb-4632-8e06-60927b900538",
   "metadata": {},
   "source": [
    "2. Nous allons ensuite chercher le minimum de la fonction créée avec la fonction: `mafonction(kappa, Lambda, x)`\n",
    "\n",
    "Ici, on cherche la valeur de minimise `mafonction`. *inf* est la borne inférieure de recherche et *sup* la borne supérieure. Comme notre fonction a deux paramètres, nous allons effectuer une recherche par itérations. L'algorithme est le suivant :\n",
    "\n",
    "\n",
    "- Fixer un paramètre *l* arbitrairement\n",
    "- Pour i=1...100:\n",
    "    - Calculer *k* avec la fonction fminbnd\n",
    "    - Calculer *l* avec la fonction fminbnd en prenant *k* trouvé à l'étape précédente.\n",
    " \n",
    "- Fin de la boucle.\n",
    "\n",
    "**Solution:**"
   ]
  },
  {
   "cell_type": "code",
   "execution_count": null,
   "id": "782d5880-66bf-4056-b9e9-e67f206c30a2",
   "metadata": {},
   "outputs": [],
   "source": []
  },
  {
   "cell_type": "markdown",
   "id": "112a63e6-e63a-4cbc-93d3-f3431a8d1681",
   "metadata": {},
   "source": [
    "3. Coder cet algorithme. L'algorithme converge t'il ? Tracer la densité de probabilité de la loi ajustée, et la comparer à celle obtenue grâce à la méthode des moments.\n",
    "\n",
    "**Solution:**"
   ]
  },
  {
   "cell_type": "code",
   "execution_count": null,
   "id": "fbe12b61-88e2-46d1-94fc-b8356355aa6a",
   "metadata": {},
   "outputs": [],
   "source": []
  },
  {
   "cell_type": "markdown",
   "id": "9646eadb-68d7-464a-a02c-d64b4cdb2484",
   "metadata": {},
   "source": [
    "# 3. Ajustement de lois de valeurs extrêmes sur des données\n",
    "\n",
    "Nous allons maintenant faire un ajustement de loi de valeurs extrêmes sur les données de températures et de précipitations à Davos. Il s'agit de déterminer le type de loi de valeurs extrêmes (Weibull, Gumbel ou Fréchet) qui décrit le mieux le comportement des maxima de chaque série. Dans cette exercice, nous utiliserons directement la fonction gevfit qui estime les paramètres de la loi généralisée des valeurs extrêmes par la méthode du maximum de vraisemblance vue dans l'exercice précédent.\n",
    "Nous procédons de la manière suivante :  \n",
    "- Définir des blocs (classiquement des années)\n",
    "- Calculer le maximum de chaque bloc (donc par exemple le maximum annuel)\n",
    "- Utiliser ces maxima pour caler la loi des valeurs extrêmes\n",
    "- Tracez cette loi et comparer avec la courbe empirique.\n",
    "#### Exercices"
   ]
  },
  {
   "cell_type": "markdown",
   "id": "39f76df3-650e-4112-b523-4b2a94afc976",
   "metadata": {},
   "source": [
    "1. **Précipitations**  \n",
    "De quel type (Gumbel, Fréchet ou Weibull) est la distribution?\n",
    "\n",
    "**Solution:**"
   ]
  },
  {
   "cell_type": "code",
   "execution_count": null,
   "id": "b9ae5962-6762-49c4-a692-f4aa2234468d",
   "metadata": {},
   "outputs": [],
   "source": []
  },
  {
   "cell_type": "markdown",
   "id": "db0d6d27-8669-464c-b14d-00e807a21f9c",
   "metadata": {},
   "source": [
    "2. **Températures**  \n",
    "Le fichier possède plusieurs colonnes de données, les trois dernières colonnes représentent la température à 7h, 13h et 21h. Choisissez-en une et trouver la loi de valeurs extrêmes qui convient le mieux pour décrire la distribution des maxima.\n",
    "\n",
    "**Solution:**"
   ]
  },
  {
   "cell_type": "code",
   "execution_count": null,
   "id": "fdd99cae-f597-47d8-82e2-6020873531fe",
   "metadata": {},
   "outputs": [],
   "source": []
  }
 ],
 "metadata": {
  "kernelspec": {
   "display_name": "Python",
   "language": "python",
   "name": "python3"
  },
  "language_info": {
   "codemirror_mode": {
    "name": "ipython",
    "version": 3
   },
   "file_extension": ".py",
   "mimetype": "text/x-python",
   "name": "python",
   "nbconvert_exporter": "python",
   "pygments_lexer": "ipython3",
   "version": "3.8.10"
  }
 },
 "nbformat": 4,
 "nbformat_minor": 5
}
