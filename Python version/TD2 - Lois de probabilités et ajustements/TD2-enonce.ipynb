{
 "cells": [
  {
   "cell_type": "markdown",
   "id": "b7470d1a-c3d8-4c64-a71a-a2f0f4c7aaf2",
   "metadata": {
    "tags": []
   },
   "source": [
    "# Séance 2 : Ajustement de lois\n",
    "### Professeur : Christophe Ancey\n",
    "#### Assistants : \n",
    "- Yanan Chen\n",
    "- Sofi Farazande\n",
    "- Clemente Gotelli\n"
   ]
  },
  {
   "cell_type": "markdown",
   "id": "11c988fd-b043-40d7-9fc0-cdfde0385bcb",
   "metadata": {},
   "source": [
    "## 1. Lois de probabilités et ajustements\n",
    "### 1.1 Ajustement d’une loi\n",
    "\n",
    "L’ajustement le plus simple est de chercher la loi ayant les mêmes moments que les séries de données.\n",
    "Les moments de la série sont :\n",
    "\n",
    "Moyenne ($1^{er}$ moment): $$\\mu = \\int XdP = \\dfrac{1}{N}$$  \n",
    "\n",
    "Variance ($2^{ème}$ moment): $$ \\sigma^2=\\int (X-\\mu)^2 dP = \\dfrac{1}{N}\\sum (x_i-\\mu)^2 $$\n",
    "\n",
    "Le nombre de paramètres de la loi donne le nombre de moments à égaliser. Trois séries de données\n",
    "(*serie01.txt, serie02.txt et serie03.txt*) ont été obtenues lors d’expériences et on cherche à les carac-\n",
    "tériser à l’aide d’une loi de probabilités (loi uniforme, loi exponentielle, loi gaussienne, loi de Cauchy,\n",
    "loi gamma, etc.). (Voir Annexe 1 du cours pour une description de ces lois)"
   ]
  },
  {
   "cell_type": "markdown",
   "id": "3df5710d-e240-4770-9e8d-d4a7ff500656",
   "metadata": {},
   "source": [
    "#### Exercices\n",
    "1. Tracer premièrement l’histogramme normalisé de chacun de ces tirages. Leurs allures vous paraissent-elles familières ? `[seaborn.displot]`\n"
   ]
  },
  {
   "cell_type": "markdown",
   "id": "286a5168-6d4a-4708-ade3-730ff724d757",
   "metadata": {},
   "source": [
    "2. Calculer leurs premiers moments. `[dataframe.describe(), scipy.stats.describe]`\n"
   ]
  },
  {
   "cell_type": "markdown",
   "id": "df1f9e95-e3c7-4e4f-b671-e4648f9a6001",
   "metadata": {},
   "source": [
    "3. Comparer les densités de probabilité théoriques aux histogrammes de données. `[seaborn.histplot, scipy.stats.-.fit, scipy.stats.-.pdf]`\n",
    "\n"
   ]
  },
  {
   "cell_type": "markdown",
   "id": "db44fa09-37b9-4947-b5fb-228b17cc1715",
   "metadata": {},
   "source": [
    "4. Pour les données serie03.txt, tracer un diagramme de quantile avec la loi trouvée précédemment et comparer le avec la bissectrice. La loi trouvée vous parait-elle adaptée? `[scipy.stats.probplot]`\n"
   ]
  },
  {
   "cell_type": "markdown",
   "id": "5359a607-f125-4f3d-acbf-892343a5cc21",
   "metadata": {},
   "source": [
    "### 1.2 Loi binômiale et loi de Poisson\n",
    "\n",
    "La loi binômiale (notée $\\mathbf{B}$) vient de la somme de $m$ variables aléatoires de type Bernoulli de paramètre $p$. Pour un nombre de succès petit, celle-ci peut être\n",
    "approchée par une loi de Poisson (notée $\\mathbf{P}$), plus simple dans la pratique. Mais sous quelles conditions ?\n",
    "\n",
    "#### Exercices\n",
    "1. $p$ fixé.  \n",
    "    - Tracer en fonction de $k$ la probabilité $P(X=k) $ avec $ X \\simeq \\mathbf{B}(100\\ ;\\ 0,1)$ pour $ k=1 \\cdots 30$ `[scipy.stats.binom.pmf]`\n",
    "    - Tracer en fonction de $k$ la probabilité $P(X=k)$ avec $X \\simeq \\mathbf{P}(100 \\cdot 0,1)$ pour $ k=1 \\cdots 30$ `[scipy.stats.poisson.pmf]`  \n",
    "\n"
   ]
  },
  {
   "cell_type": "markdown",
   "id": "660ccecf-747e-4c33-b029-880b9bf54245",
   "metadata": {},
   "source": [
    "2.  $k$ fixé.  \n",
    "    - Tracer en fonction de $p$ la probabilité $P(X=5) $ avec $X \\simeq \\mathbf{B}(100\\ ;\\ p)$ pour $ p=0,01 \\cdots 0,2$\n",
    "    - Tracer (sur la même figure) en fonction de $p$ la probabilité $P(X=5)$ avec $X \\simeq \\mathbf{P}(100 \\cdot p)$ pour $ p=0,01 \\cdots 0,2$\n",
    "    "
   ]
  },
  {
   "cell_type": "markdown",
   "id": "9da17da0-43df-48e8-bc93-0ba95a3ac40f",
   "metadata": {},
   "source": [
    "3. Condition sur $p$ pour $k \\in [0\\ ;\\ 20]$.\n",
    "    - Calculer le maximum de l'erreur relative sur $P(X=k)$ entre la loi binômiale et la loi de Poisson pour $ p=0,01 \\cdots 0,2$. On tracera le graphique de l'erreur en fonction de $p$.\n",
    "    - Trouver la condition sur $p$ pour que l'erreur absolue entre les deux lois soit de moins de $10$~\\% quel que soit $k$ ? `[np.abs]`\n",
    "    "
   ]
  },
  {
   "cell_type": "markdown",
   "id": "a6a7095f-8349-435e-abd4-d9808832e900",
   "metadata": {},
   "source": [
    "4. *Question facultative :* les paramètres $k$ et $p$ ont tous les deux une influence sur la valeur de l'erreur commise entre ces deux lois. Tracer un graphique 3D du logarithme de l'erreur en fonction de $p$ et de $k$ pour $p \\in [0,001\\ ;\\ 0,5]$ et $k \\in [1\\ ;\\ 50]$. Concluez. `[meshgrid,mesh]`\n",
    "\n",
    "**Solution:**"
   ]
  },
  {
   "cell_type": "markdown",
   "id": "519aa3d4-b6b6-4fc1-a9bf-dc0a9047385d",
   "metadata": {
    "tags": []
   },
   "source": [
    "## 2. Le paradoxe de Pétersbourg\n",
    "\n",
    "Un joueur va au casino pour faire fortune. Grâce à son cours de probabilité, il a développé une stratégie qu'il pense infaillible : il commence par miser la mise minimale sur une couleur (rouge ou noire). Quand il perd il rejoue en doublant son enjeu. S'il perd  à nouveau il double une nouvelle fois son enjeu, etc. Une fois qu'il a gagné, il recommence avec la mise minimale. Cette stratégie est-elle payante ?  Plus prudent que le joueur, vous lui proposez de simuler cette stratégie avant de l'appliquer :\n",
    "\n",
    "#### Exercices \n",
    "\n",
    "- La fortune au début est de 100 fois la mise minimale, l'enjeu de départ est alors 1. Tant que sa fortune est supérieure à l'enjeu que lui impose sa stratégie, il joue.\n",
    "\n",
    "\t- Il perd avec une probabilité de $P=0,5$ ; la mise est doublée, sa fortune diminue de la mise perdue;\n",
    "    - Il gagne avec une probabilité de $P=0,5$ : la mise retombe à 1 et sa fortune  augmente de la mise ;   \n",
    "    \n",
    "- Comme le joueur n'est pas trop téméraire, il s'arrête de jouer lorsqu'il a doublé sa fortune initiale.\n",
    "      \n",
    "1. Simuler cette stratégie. Faire un diagramme de sa fortune. `[np.random.rand]`  \n"
   ]
  },
  {
   "cell_type": "markdown",
   "id": "41319887-c05c-4abd-8a15-3eb948f1b4be",
   "metadata": {
    "tags": []
   },
   "source": [
    "2. Enregistrer la fortune finale et calculer la moyenne.  `[np.mean]`"
   ]
  },
  {
   "cell_type": "markdown",
   "id": "77ce0c96-5fd7-4db8-bef8-c12c6470eacf",
   "metadata": {
    "tags": []
   },
   "source": [
    "> **Explication du paradoxe :**  \n",
    "Pour mettre en évidence l'aspect paradoxal de ce problème, il faut considérer que, quelle que soit la mise initiale, l'espérance mathématique de gain est positive, et même infinie, pour le joueur. Pourtant, tout quidam sain d'esprit refusera de jouer à un tel jeu si la mise initiale est trop élevée. Ce comportement d'apparence irrationnelle s'appelle l'aversion au risque. Il a été formalisé par la notion de fonction d'utilité et a donné naissance à la théorie de la décision.  \n",
    "Une solution simple à ce paradoxe consiste à faire l'hypothèse réaliste que la banque n'est pas infiniment riche, et qu'elle va donc cesser de payer au-delà d'une certaine somme. Par exemple, si on suppose qu'elle ne dispose << que >> de 4 000 000 CHF soit $2^{22}$ CHF, le jeu va cesser au 22$^{\\mathrm{ème}}$ coup et la mise équitable sera alors de 22 CHF."
   ]
  }
 ],
 "metadata": {
  "kernelspec": {
   "display_name": "Python",
   "language": "python",
   "name": "python3"
  },
  "language_info": {
   "codemirror_mode": {
    "name": "ipython",
    "version": 3
   },
   "file_extension": ".py",
   "mimetype": "text/x-python",
   "name": "python",
   "nbconvert_exporter": "python",
   "pygments_lexer": "ipython3",
   "version": "3.8.10"
  }
 },
 "nbformat": 4,
 "nbformat_minor": 5
}
