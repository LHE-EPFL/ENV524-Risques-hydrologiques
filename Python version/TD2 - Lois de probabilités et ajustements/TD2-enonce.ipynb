{
 "cells": [
  {
   "cell_type": "markdown",
   "id": "b7470d1a-c3d8-4c64-a71a-a2f0f4c7aaf2",
   "metadata": {
    "tags": []
   },
   "source": [
    "# **Séance 2 : Lois de probabilités et ajustements**\n",
    "### **Professeur** : Christophe Ancey\n",
    "#### **Assistants** : \n",
    "- Yanan Chen\n",
    "- Sofi Farazande\n",
    "- Clemente Gotelli\n"
   ]
  },
  {
   "cell_type": "markdown",
   "id": "11c988fd-b043-40d7-9fc0-cdfde0385bcb",
   "metadata": {},
   "source": [
    "## 1. Lois de probabilités et ajustements\n",
    "### 1.1 Ajustement d’une loi\n",
    "\n",
    "L’ajustement le plus simple est de chercher la loi ayant les mêmes moments que les séries de données.\n",
    "Les moments de la série sont :\n",
    "\n",
    "Moyenne ($1^{er}$ moment): $$\\mu = \\int XdP = \\dfrac{1}{N}$$  \n",
    "\n",
    "Variance ($2^{ème}$ moment): $$ \\sigma^2=\\int (X-\\mu)^2 dP = \\dfrac{1}{N}\\sum (x_i-\\mu)^2 $$\n",
    "\n",
    "Le nombre de paramètres de la loi donne le nombre de moments à égaliser. Trois séries de données\n",
    "(*serie01.txt, serie02.txt et serie03.txt*) ont été obtenues lors d’expériences et on cherche à les carac-\n",
    "tériser à l’aide d’une loi de probabilités (loi uniforme, loi exponentielle, loi gaussienne, loi de Cauchy,\n",
    "loi gamma, etc.). (Voir Annexe 1 du cours pour une description de ces lois)"
   ]
  },
  {
   "cell_type": "markdown",
   "id": "3df5710d-e240-4770-9e8d-d4a7ff500656",
   "metadata": {},
   "source": [
    "#### Exercices\n",
    "1. Tracer premièrement l’histogramme normalisé de chacun de ces tirages. Leurs allures vous paraissent-elles familières ? `[seaborn.displot]`\n",
    "\n",
    "**Solution:**"
   ]
  },
  {
   "cell_type": "code",
   "execution_count": null,
   "id": "a6e26501-b645-4c8e-a891-a6fa8502189b",
   "metadata": {},
   "outputs": [],
   "source": []
  },
  {
   "cell_type": "markdown",
   "id": "286a5168-6d4a-4708-ade3-730ff724d757",
   "metadata": {},
   "source": [
    "2. Calculer leurs premiers moments. `[dataframe.describe(), scipy.stats.describe]`\n",
    "\n",
    "**Solution:**"
   ]
  },
  {
   "cell_type": "code",
   "execution_count": null,
   "id": "8eca89dd-a7a0-4678-a470-56be3b6c5638",
   "metadata": {},
   "outputs": [],
   "source": []
  },
  {
   "cell_type": "markdown",
   "id": "df1f9e95-e3c7-4e4f-b671-e4648f9a6001",
   "metadata": {},
   "source": [
    "3. Comparer les densités de probabilité théoriques aux histogrammes de données. `[seaborn.histplot, scipy.stats.-.fit, scipy.stats.-.pdf]`\n",
    "\n",
    "**Solution:**"
   ]
  },
  {
   "cell_type": "code",
   "execution_count": null,
   "id": "68406f3f-1366-40f4-8ec7-e2ff87801ba0",
   "metadata": {},
   "outputs": [],
   "source": []
  },
  {
   "cell_type": "markdown",
   "id": "db44fa09-37b9-4947-b5fb-228b17cc1715",
   "metadata": {},
   "source": [
    "4. Pour les données serie03.txt, tracer un diagramme de quantile avec la loi trouvée précédemment et comparer le avec la bissectrice. La loi trouvée vous parait-elle adaptée? `[scipy.stats.probplot]`\n",
    "\n",
    "**Solution:**"
   ]
  },
  {
   "cell_type": "code",
   "execution_count": null,
   "id": "3ebbd6ca-d1cc-460a-9438-55aee280d166",
   "metadata": {},
   "outputs": [],
   "source": []
  },
  {
   "cell_type": "markdown",
   "id": "5359a607-f125-4f3d-acbf-892343a5cc21",
   "metadata": {},
   "source": [
    "### 1.2 Loi binômiale et loi de Poisson\n",
    "\n",
    "La loi binômiale (notée $\\mathbf{B}$) vient de la somme de $m$ variables aléatoires de type Bernoulli de paramètre $p$. Pour un nombre de succès petit, celle-ci peut être\n",
    "approchée par une loi de Poisson (notée $\\mathbf{P}$), plus simple dans la pratique. Mais sous quelles conditions ?\n",
    "\n",
    "#### Exercices\n",
    "1. $p$ fixé.  \n",
    "    - Tracer en fonction de $k$ la probabilité $P(X=k) $ avec $ X \\simeq \\mathbf{B}(100\\ ;\\ 0,1)$ pour $ k=1 \\cdots 30$ `[scipy.stats.binom.pmf]`\n",
    "    - Tracer en fonction de $k$ la probabilité $P(X=k)$ avec $X \\simeq \\mathbf{P}(100 \\cdot 0,1)$ pour $ k=1 \\cdots 30$ `[scipy.stats.poisson.pmf]`  \n",
    "    \n",
    "**Solution:**\n",
    "\n",
    "You can check the information about both distributions [here](https://www.alphacodingskills.com/scipy/scipy-binomial-distribution.php) and [here](https://www.alphacodingskills.com/scipy/scipy-poisson-distribution.php).\n"
   ]
  },
  {
   "cell_type": "code",
   "execution_count": null,
   "id": "8e17a326-ee32-4342-a912-0d68828ac084",
   "metadata": {},
   "outputs": [],
   "source": []
  },
  {
   "cell_type": "markdown",
   "id": "660ccecf-747e-4c33-b029-880b9bf54245",
   "metadata": {},
   "source": [
    "2.  $k$ fixé.  \n",
    "    - Tracer en fonction de $p$ la probabilité $P(X=5) $ avec $X \\simeq \\mathbf{B}(100\\ ;\\ p)$ pour $ p=0,01 \\cdots 0,2$\n",
    "    - Tracer (sur la même figure) en fonction de $p$ la probabilité $P(X=5)$ avec $X \\simeq \\mathbf{P}(100 \\cdot p)$ pour $ p=0,01 \\cdots 0,2$\n",
    "    \n",
    "**Solution:**"
   ]
  },
  {
   "cell_type": "code",
   "execution_count": null,
   "id": "33223e9b-6e5f-4a10-93bc-313a0a4730ac",
   "metadata": {},
   "outputs": [],
   "source": []
  },
  {
   "cell_type": "markdown",
   "id": "9da17da0-43df-48e8-bc93-0ba95a3ac40f",
   "metadata": {},
   "source": [
    "3. Condition sur $p$ pour $k \\in [0\\ ;\\ 20]$.\n",
    "    - Calculer le maximum de l'erreur relative sur $P(X=k)$ entre la loi binômiale et la loi de Poisson pour $ p=0,01 \\cdots 0,2$. On tracera le graphique de l'erreur en fonction de $p$.\n",
    "    - Trouver la condition sur $p$ pour que l'erreur absolue entre les deux lois soit de moins de $10$~\\% quel que soit $k$ ?\n",
    "    \n",
    "**Solution:**"
   ]
  },
  {
   "cell_type": "code",
   "execution_count": null,
   "id": "3a9ca8bb-8eac-4019-80d7-7efd6d3c3338",
   "metadata": {},
   "outputs": [],
   "source": []
  },
  {
   "cell_type": "markdown",
   "id": "a6a7095f-8349-435e-abd4-d9808832e900",
   "metadata": {},
   "source": [
    "4. *Question facultative :* les paramètres $k$ et $p$ ont tous les deux une influence sur la valeur de l'erreur commise entre ces deux lois. Tracer un graphique 3D du logarithme de l'erreur en fonction de $p$ et de $k$ pour $p \\in [0,001\\ ;\\ 0,5]$ et $k \\in [1\\ ;\\ 50]$. Concluez. `[meshgrid,mesh]`\n",
    "\n",
    "**Solution:**"
   ]
  },
  {
   "cell_type": "markdown",
   "id": "519aa3d4-b6b6-4fc1-a9bf-dc0a9047385d",
   "metadata": {
    "tags": []
   },
   "source": [
    "## 2. Le paradoxe de Pétersbourg\n",
    "\n",
    "Un joueur va au casino pour faire fortune. Grâce à son cours de probabilité, il a développé une stratégie qu'il pense infaillible : il commence par miser la mise minimale sur une couleur (rouge ou noire). Quand il perd il rejoue en doublant son enjeu. S'il perd  à nouveau il double une nouvelle fois son enjeu, etc. Une fois qu'il a gagné, il recommence avec la mise minimale. Cette stratégie est-elle payante ?  Plus prudent que le joueur, vous lui proposez de simuler cette stratégie avant de l'appliquer :\n",
    "\n",
    "#### Exercices \n",
    "\n",
    "- La fortune au début est de 100 fois la mise minimale, l'enjeu de départ est alors 1. Tant que sa fortune est supérieure à l'enjeu que lui impose sa stratégie, il joue.\n",
    "\n",
    "\t- Il perd avec une probabilité de $P=0,5$ ; la mise est doublée, sa fortune diminue de la mise perdue;\n",
    "    - Il gagne avec une probabilité de $P=0,5$ : la mise retombe à 1 et sa fortune  augmente de la mise ;   \n",
    "    \n",
    "- Comme le joueur n'est pas trop téméraire, il s'arrête de jouer lorsqu'il a doublé sa fortune initiale.\n",
    "      \n",
    "1. Simuler cette stratégie. Faire un diagramme de sa fortune.  \n",
    "\n",
    "**Solution:**"
   ]
  },
  {
   "cell_type": "code",
   "execution_count": null,
   "id": "65c38ab8-956c-443a-a112-c018aef1dfe5",
   "metadata": {},
   "outputs": [],
   "source": []
  },
  {
   "cell_type": "markdown",
   "id": "41319887-c05c-4abd-8a15-3eb948f1b4be",
   "metadata": {
    "tags": []
   },
   "source": [
    "2. Enregistrer la fortune finale et calculer la moyenne.  \n",
    "\n",
    "**Solution:**"
   ]
  },
  {
   "cell_type": "code",
   "execution_count": null,
   "id": "41c04eab-ef89-45a3-9b55-02857258066f",
   "metadata": {},
   "outputs": [],
   "source": []
  }
 ],
 "metadata": {
  "kernelspec": {
   "display_name": "Python",
   "language": "python",
   "name": "python3"
  },
  "language_info": {
   "codemirror_mode": {
    "name": "ipython",
    "version": 3
   },
   "file_extension": ".py",
   "mimetype": "text/x-python",
   "name": "python",
   "nbconvert_exporter": "python",
   "pygments_lexer": "ipython3",
   "version": "3.8.10"
  }
 },
 "nbformat": 4,
 "nbformat_minor": 5
}
