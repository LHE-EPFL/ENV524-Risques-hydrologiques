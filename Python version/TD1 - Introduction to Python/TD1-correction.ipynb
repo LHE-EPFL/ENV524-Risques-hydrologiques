{
 "cells": [
  {
   "cell_type": "markdown",
   "id": "107734cd-64fc-416f-a326-39d7f1cf63ba",
   "metadata": {
    "tags": []
   },
   "source": [
    "# **Séance 1 : Introduction to Python & Jupyter** \n",
    "### **Professeur** : Christophe Ancey\n",
    "#### **Assistants** : \n",
    "- Yanan Chen\n",
    "- Sofi Farazande\n",
    "- Clemente Gotelli\n",
    "---"
   ]
  },
  {
   "cell_type": "markdown",
   "id": "f46b1e26-8154-4a78-8b4a-cef920018d19",
   "metadata": {},
   "source": [
    "This first TD is intended to introduce Python and its data analysis tools. During the course we will use these tools to obtain various information from time series, which will serve for decision making. During the course, we will use Jupyter notebook ([EPFL's noto](https://www.epfl.ch/education/educational-initiatives/jupyter-notebooks-for-education/one-click-access-to-jupyter-notebooks-online-with-noto/) in particular) to work with Python.\n"
   ]
  },
  {
   "cell_type": "markdown",
   "id": "acd43b06-5b87-43d4-9ad1-2cd448210706",
   "metadata": {
    "tags": []
   },
   "source": [
    "# **1. What is Jupyter Notebook?**\n",
    "\n",
    "Jupyter notebook is an open-source, interactive web application that allows users to create and share documents that contain interactive calculations, code, images, etc. Users can combine data, code, and visualizations into a single notebook, and create interactive “stories” that they can edit and share. Notebooks are documents which contain both computer code (such as Python) and other text elements such as paragraph, markdown, figures, links, etc. The Jupyter notebook is widely used and well documented and offers an easy to use interface for creating, editing, and running notebooks. The notebook runs as a web application called the “Dashboard” or “control panel” that shows local files and allows users to open notebook documents and run snippets of code. The outputs are neatly formatted and displayed on the browser.\n",
    "\n",
    "The other component of the notebook is the kernel. The kernel is a “computational engine” that executes the code written in the Notebook. It is similar to the back-end of the application. The IPython kernel (Jupyter was previously called IPython notebook) is used to execute Python code in the Jupyter notebook. There are kernels for other languages as well, but as we stated before, we will use Python code for this course.\n",
    "\n",
    "The user interface Jupyter Notebook looks like:\n",
    "\n",
    "<img src=\"images/structure.png\">\n",
    "\n",
    "\n",
    "## **1.1 Structure of a notebook document**\n",
    "\n",
    "The notebook consists of a sequence of cells. A cell is a multiline text input field, and its contents can be executed by using Shift-Enter, or by clicking either the “Play” button the toolbar, or Cell, Run in the menu bar. The execution behavior of a cell is determined by the cell’s type. There are three types of cells: code cells, markdown cells, and raw cells. Every cell starts off being a code cell, but its type can be changed by using a drop-down on the toolbar (which will be “Code”, initially), or via keyboard shortcuts.\n",
    "\n",
    "**Cell Types are:**\n",
    "\n",
    "1. **Code**: These cells allow users to write, edit, and execute code (Python code by default)\n",
    "\n",
    "<img src=\"images/code.png\">\n",
    "\n",
    "2. **Raw**: Raw cells allow users to write output directly and are not evaluated by the notebook.\n",
    "\n",
    "<img src=\"images/raw.png\">\n",
    "\n",
    "3. **Markdown**: These cells allow users to write and execute markdown. The output is displayed below the cell in a neatly formatted markdown.\n",
    "\n",
    "<img src=\"images/markdown.png\">\n",
    "\n",
    "**What is Markdown?**\n",
    "\n",
    "Markdown is a lightweight markup language that you can use to add formatting elements to plaintext text documents. Created by John Gruber in 2004, Markdown is now one of the world’s most popular markup languages. You can add Markdown formatting elements to a plaintext file using a text editor application. Or you can use one of the many Markdown applications for macOS, Windows, Linux, iOS, and Android operating systems. There are also several web-based applications specifically designed for writing in Markdown.\n",
    "\n",
    "In Jupyter Notebook you can use Markdown to format documentation you add to Markdown cells. In these cells you can add LaTeX equations, Embedded code, among other elements. On [this link](https://www.markdownguide.org/basic-syntax/) you will find the Markdown basic syntax elements with examples.\n",
    "\n",
    "## **1.2 EPFL's noto**\n",
    "\n",
    "Called [noto](https://noto.epfl.ch/), EPFL’s JupyterLab centralized platform for education allows teachers and students to use Jupyter notebooks online without having to install anything on their computer. \n",
    "\n",
    "Named after the Japanese term for notebook, “nōto” or “ノート”, noto is designed to provide easy access to anyone who wants to create, modify and run notebooks with a simple web browser for teaching and learning purposes. The currently supported programming languages are Python, R, C JavaScript and Octave.\n",
    "\n",
    "**For this course we recommend to use [noto](https://noto.epfl.ch/), since it comes with most packages you will use and because you can access it from any laptop with internet and a web browser.**\n",
    "\n",
    "\n",
    "> We recommend to use the extension \"Black\". This extension automatically formats the code when it is too long. If is not installed, run ` !pip install jupyter-black` inside a code cell. The extension is activated by running `%load_ext jupyter_black` on any code cell.  \n",
    "IMPORTANT: It is not necessary to install the extension each time. With one time it will be installed in the system (noto in this case)."
   ]
  },
  {
   "cell_type": "code",
   "execution_count": 1,
   "id": "2aa699dc-01a1-4a66-9153-ca387a866687",
   "metadata": {},
   "outputs": [
    {
     "data": {
      "text/html": [
       "\n",
       "                <script type=\"application/javascript\" id=\"jupyter_black\">\n",
       "                (function() {\n",
       "                    if (window.IPython === undefined) {\n",
       "                        return\n",
       "                    }\n",
       "                    var msg = \"WARNING: it looks like you might have loaded \" +\n",
       "                        \"jupyter_black in a non-lab notebook with \" +\n",
       "                        \"`is_lab=True`. Please double check, and if \" +\n",
       "                        \"loading with `%load_ext` please review the README!\"\n",
       "                    console.log(msg)\n",
       "                    alert(msg)\n",
       "                })()\n",
       "                </script>\n",
       "                "
      ],
      "text/plain": [
       "<IPython.core.display.HTML object>"
      ]
     },
     "metadata": {},
     "output_type": "display_data"
    }
   ],
   "source": [
    "# Comment the line below if the extension is already installed.\n",
    "# !pip install jupyter-black\n",
    "%load_ext jupyter_black"
   ]
  },
  {
   "cell_type": "markdown",
   "id": "da0c28ff-c828-40dc-9a27-3ab1b139aae8",
   "metadata": {},
   "source": [
    "---"
   ]
  },
  {
   "cell_type": "markdown",
   "id": "e5acc8c8-e11a-4047-8974-a1618d029512",
   "metadata": {},
   "source": [
    "# **2. Introduction to Python**\n",
    "\n",
    "Python is a popular programming language. It was created by Guido van Rossum, and released in 1991. It is used for:\n",
    "\n",
    "- web development (server-side),\n",
    "- software development,\n",
    "- mathematics,\n",
    "- system scripting.\n",
    "\n",
    "**Python Syntax:**  \n",
    "- Python was designed for readability, and has some similarities to the English language with influence from mathematics.\n",
    "- Python uses new lines to complete a command, as opposed to other programming languages which often use semicolons or parentheses.\n",
    "- Python relies on indentation, using whitespace, to define scope; such as the scope of loops, functions and classes. Other programming languages often use curly-brackets for this purpose.\n",
    "\n",
    "> On this course we will assume you have basic knowledge of programming. If you need to learn about basic syntax of Python, you can refer to [this website](https://www.w3schools.com/python/python_getstarted.asp).\n",
    "\n",
    "**We will begin with a short summary on modules, functions, plots, reading files, and statistic analysis.**"
   ]
  },
  {
   "cell_type": "markdown",
   "id": "fec726a1-c0fd-4cb4-a090-ce89342c650b",
   "metadata": {},
   "source": [
    "## **2.1 Modules**  \n",
    "\n",
    "Modules are the pre-defined files that contain the python codes which depict the basic functionalities of class, methods, variables, etc. It consists of different functions, classes in a group of files inside a directory. Modules can also be termed as Libraries. These are basically the pre-defined methods that can be used to make the code more efficient and reduce redundancy.\n",
    "\n",
    "Modules bind the code and reduce the repetitions of functions frequently used in the code. Thus, it makes the code much clear and easy to understand. There are thousands of modules available for Python, which save you time when developing. \n",
    "\n",
    "There are two ways to install Python modules: system wide and using a virtual environment.\n",
    "\n",
    "**Importing modules from Python Standard path**\n",
    "\n",
    "*Syntax:*\n",
    "\n",
    "```import module_name```\n",
    "\n",
    "**Example:**\n",
    "\n",
    "```python\n",
    "import math\n",
    " \n",
    "print(math.sqrt(121)) \n",
    " \n",
    "print(math.pi) \n",
    " \n",
    "print(dir(math))\n",
    "```\n",
    "**Output:**\n",
    "```raw\n",
    "11.0\n",
    "3.141592653589793\n",
    "[‘doc’, ‘loader’, ‘name’, ‘package’, ‘spec’, ‘acos’, ‘acosh’, ‘asin’, ‘asinh’, ‘atan’, ‘atan2’, ‘atanh’, ‘ceil’, ‘copysign\n",
    "‘, ‘cos’, ‘cosh’, ‘degrees’, ‘e’, ‘erf’, ‘erfc’, ‘exp’, ‘expm1’, ‘fabs’, ‘factorial’, ‘floor’, ‘fmod’, ‘frexp’, ‘fsum’, ‘gamma’, ‘hypot’, ‘isf\n",
    "inite’, ‘isinf’, ‘isnan’, ‘ldexp’, ‘lgamma’, ‘log’, ‘log10’, ‘log1p’, ‘log2’, ‘modf’, ‘pi’, ‘pow’, ‘radians’, ‘sin’, ‘sinh’, ‘sqrt’, ‘tan’, ‘t\n",
    "anh’, ‘trunc’]\n",
    "```\n",
    "To learn more about the `import` statement, you can read the section dedicated to it [on this website](https://realpython.com/python-modules-packages/#the-import-statement).\n",
    "\n",
    "### **Modules not included by default**  \n",
    "\n",
    "If when you google some problem they refer you to a specific module, there is a high chance that you will not have the module available in your machine. So, **how can we add these modules to our local machine (or to noto)?** There are two ways to install Python modules: system wide and using a virtual environment. To know more about it, please refer to [this website](https://pythonprogramminglanguage.com/how-to-install-modules/)."
   ]
  },
  {
   "cell_type": "markdown",
   "id": "1aafbd0e-1321-4eb7-9dae-4d36d170eb42",
   "metadata": {},
   "source": [
    "## **2.2 Numpy**  \n",
    "\n",
    "NumPy is a Python library used for working with arrays. It also has functions for working in domain of linear algebra, fourier transform, and matrices. For those closer to Matlab, you will see that both are vey similar. You can access [this website](https://numpy.org/doc/stable/user/numpy-for-matlab-users.html) to check similarities between the two.\n",
    "\n",
    "In Python we have lists that serve the purpose of arrays, but they are slow to process. NumPy aims to provide an array object that is up to 50x faster than traditional Python lists. The array object in NumPy is called `ndarray`, it provides a lot of supporting functions that make working with `ndarray` very easy. Arrays are very frequently used in data science, where speed and resources are very important.\n",
    "\n",
    "Numpy normally is imported as `np`. Below there is a short example of how to import and use Numpy.\n",
    "\n",
    "**Example**\n",
    "\n",
    "```python\n",
    "import numpy as np \n",
    "arr = np.array([1, 2, 3, 4, 5])\n",
    "print(arr)\n",
    "```  \n",
    "**Output:**\n",
    "```raw\n",
    "[1 2 3 4 5] \n",
    "```\n",
    "\n",
    "For more information about how to use NunmPy and all its available features and functions, please refer to [this website](https://www.w3schools.com/python/numpy/numpy_intro.asp).\n",
    "\n",
    "### **Exercises**\n",
    "\n",
    "1. Write a NumPy program to create an array of 10 zeros, 10 ones, 10 fives.  \n",
    "**Solution:**"
   ]
  },
  {
   "cell_type": "code",
   "execution_count": null,
   "id": "e0b48d1d-50e9-4eb4-baeb-f0adf2a50333",
   "metadata": {},
   "outputs": [],
   "source": []
  },
  {
   "cell_type": "markdown",
   "id": "9c83562c-1d7e-44ea-8556-6c5aa5529706",
   "metadata": {},
   "source": [
    "2. Write a NumPy program to create an element-wise comparison (equal, equal within a tolerance) of two given arrays.  \n",
    "**Solution:**"
   ]
  },
  {
   "cell_type": "code",
   "execution_count": null,
   "id": "205a5609-bb3d-4488-b2a9-17b8fff50473",
   "metadata": {},
   "outputs": [],
   "source": []
  },
  {
   "cell_type": "markdown",
   "id": "eae2a5a4-1ecf-4224-a657-8ac4f99c7991",
   "metadata": {},
   "source": [
    "## **2.3 Functions**\n",
    "\n",
    "A function is a block of code which only runs when it is called. You can pass data, known as parameters, into a function. A function can return data as a result.\n",
    "\n",
    "In Python a function is defined using the `def` keyword:\n",
    "\n",
    "**Example**  \n",
    "\n",
    "```python\n",
    "def my_function():\n",
    "  print(\"Hello from a function\")\n",
    "\n",
    "my_function()\n",
    "```\n",
    "**Output:**\n",
    "\n",
    "```raw\n",
    "Hello from a function\n",
    "```\n",
    "Information can be passed into functions as arguments. By default, a function must be called with the correct number of arguments. Meaning that if your function expects 2 arguments, you have to call the function with 2 arguments, not more, and not less. \n",
    "\n",
    "**Example**  \n",
    "\n",
    "```python\n",
    "def my_function(fname):\n",
    "  print(fname + \" Refsnes\")\n",
    "\n",
    "my_function(\"Emil\")\n",
    "my_function(\"Tobias\")\n",
    "my_function(\"Linus\") \n",
    "```\n",
    "**Output:**\n",
    "\n",
    "```raw\n",
    "Emil Refsnes\n",
    "Tobias Refsnes\n",
    "Linus Refsnes \n",
    "```\n",
    "If the number of arguments is unknown, add a `*` before the parameter name:  \n",
    "\n",
    "**Example**  \n",
    "\n",
    "```python\n",
    "def my_function(*kids):\n",
    "  print(\"The youngest child is \" + kids[2])\n",
    "\n",
    "my_function(\"Emil\", \"Tobias\", \"Linus\") \n",
    "```\n",
    "\n",
    "**Output:**\n",
    "\n",
    "```raw\n",
    "The youngest child is Linus\n",
    "```\n",
    "\n",
    "If you do not know how many keyword arguments that will be passed into your function, add two asterisk: `**` before the parameter name in the function definition. This way the function will receive a dictionary of arguments, and can access the items accordingly:\n",
    "\n",
    "**Example**\n",
    "\n",
    "```python\n",
    "def my_function(**kid):\n",
    "  print(\"His last name is \" + kid[\"lname\"])\n",
    "\n",
    "my_function(fname = \"Tobias\", lname = \"Refsnes\") \n",
    "```\n",
    "\n",
    "**Output:**\n",
    "\n",
    "```raw\n",
    "His last name is Refsnes \n",
    "```\n",
    "\n",
    "For more information about functions, please refer to [this website](https://www.w3schools.com/python/python_functions.asp).\n",
    "\n",
    "### **Exercises**\n",
    "\n",
    "1. Write a Python program to print the even numbers from a given list.  \n",
    "**Solution:**"
   ]
  },
  {
   "cell_type": "code",
   "execution_count": null,
   "id": "1c744365-341e-4e28-bd9b-785da11c8e0f",
   "metadata": {},
   "outputs": [],
   "source": []
  },
  {
   "cell_type": "markdown",
   "id": "7a561fd5-26db-4dc4-86ee-d5f67b2e5b0c",
   "metadata": {},
   "source": [
    "2. Write a Python function that checks whether a passed string is palindrome or not. **Note:** A palindrome is a word, phrase, or sequence that reads the same backward as forward, e.g., madam.  \n",
    "**Solution:**"
   ]
  },
  {
   "cell_type": "code",
   "execution_count": null,
   "id": "20e8c698-a121-4979-b8df-438def53f8df",
   "metadata": {},
   "outputs": [],
   "source": []
  },
  {
   "cell_type": "markdown",
   "id": "5bbaccde-dbab-4777-ac33-9f3d38b0e932",
   "metadata": {},
   "source": [
    "## **2.4 Plots with Matplotlib**  \n",
    "\n",
    "The way to think about creating a plot in matplotlib is really one step at a time. We start by using a pyplot command to create a figure, and then, with each subsequent command, we make changes to this figure, like adding one layer at a time. So first we might just start by making a plotting area in a figure, then we add some plot lines, then we add labels, etc. All of these commands will go in the same cell of code, and at the end, when we are ready to display the plot, we call the final command `plt.show()`.  \n",
    "Let’s try an example. Perhaps the easiest example we can start with is just plotting a function. We will plot the function $\\sin(x)+\\cos(x)$ in the range $[-\\pi,\\pi]$."
   ]
  },
  {
   "cell_type": "code",
   "execution_count": 2,
   "id": "8473cb19-f182-4f5e-818e-a2f9354f9c2a",
   "metadata": {},
   "outputs": [],
   "source": [
    "import numpy as np\n",
    "\n",
    "# This is the typical way of importing matplotlib\n",
    "import matplotlib.pyplot as plt\n",
    "\n",
    "# With this line matplotlib graphs will be included in your notebook, next to the code.\n",
    "%matplotlib inline\n",
    "\n",
    "# Create the array for X and evaluate the function at each point.\n",
    "X = np.linspace(-np.pi, np.pi)\n",
    "Y = np.sin(X) + np.cos(X)"
   ]
  },
  {
   "cell_type": "code",
   "execution_count": 3,
   "id": "8b7ca6a4-5cf1-4ae4-879c-67bb5b1a85ac",
   "metadata": {},
   "outputs": [
    {
     "data": {
      "image/png": "[encoded data removed]",
      "text/plain": [
       "<Figure size 640x480 with 1 Axes>"
      ]
     },
     "metadata": {},
     "output_type": "display_data"
    }
   ],
   "source": [
    "plt.plot(X, Y, color=\"red\", linewidth=2.0, label=\"$f(x)$\")\n",
    "# For modifying the limits\n",
    "plt.xlim(-4, 4)\n",
    "# We can also change the x-ticks to be at specific values that we choose and replacing them with the π symbol. For example:\n",
    "plt.xticks(\n",
    "    [-np.pi, -np.pi / 2, 0, np.pi / 2, np.pi],\n",
    "    [\"$-\\pi$\", \"$-\\pi/2$\", \"$0$\", \"$\\pi/2$\", \"$\\pi$\"],\n",
    ")\n",
    "# insert title and labels\n",
    "plt.title(\"The function $f(x)=\\sin(x) + \\cos(x)$\")\n",
    "plt.xlabel(\"x\")\n",
    "plt.ylabel(\"y=f(x)\")\n",
    "plt.legend()\n",
    "plt.show()"
   ]
  },
  {
   "cell_type": "markdown",
   "id": "92fb3bc5-7e27-41df-b976-086d54f9be0d",
   "metadata": {},
   "source": [
    "**How to customize plots?**   \n",
    "Python is very flexible when it comes to plots. You can check the [\"Getting started\"](https://matplotlib.org/stable/users/getting_started/) section of Matplotlib's documentation to learn all the options.\n",
    "\n",
    "There is a good (and free!) introductory book on how to work with matplotlib. You can find it in [this link](https://github.com/rougier/scientific-visualization-book).\n"
   ]
  },
  {
   "cell_type": "markdown",
   "id": "10c0c753-58e4-4a20-8415-da639f4e14f8",
   "metadata": {
    "tags": []
   },
   "source": [
    "**Exercise**\n",
    "\n",
    "1. In this exercise, you will practice plotting your own function. Your goal is to reproduce the plot below. As always, try to do it on your own before checking the solution - you learn most in those moments when you try to solve a problem on your own!\n",
    "\n",
    "<img src=\"images/example_01.png\">"
   ]
  },
  {
   "cell_type": "markdown",
   "id": "5836e56e-40c3-4aaf-8582-d11b5f279720",
   "metadata": {},
   "source": [
    "**Solution:**  "
   ]
  },
  {
   "cell_type": "code",
   "execution_count": null,
   "id": "8ea2038c-2201-4bcd-afca-c869353d10ea",
   "metadata": {},
   "outputs": [],
   "source": []
  },
  {
   "cell_type": "markdown",
   "id": "2dfd04b1-38a4-4a6d-a094-18b745d68080",
   "metadata": {},
   "source": [
    "#### **Bar plots**\n",
    "To obtain a bar plot in Matplotlib we use the plt.bar() method.\n",
    "\n",
    "For this example, we will use the following data from Wikipedia, which gives the number of gold, silver and bronze medals of the top five countries at the 2016 Olympic Games:"
   ]
  },
  {
   "cell_type": "code",
   "execution_count": 4,
   "id": "628cc08e-cc58-4243-ab8b-cfe6b077e757",
   "metadata": {},
   "outputs": [],
   "source": [
    "countries = [\"USA\", \"GB\", \"China\", \"Russia\", \"Germany\"]\n",
    "bronzes = np.array([38, 17, 26, 19, 15])\n",
    "silvers = np.array([37, 23, 18, 17, 10])\n",
    "golds = np.array([46, 27, 26, 19, 17])\n",
    "total = np.array([121, 67, 70, 55, 42])"
   ]
  },
  {
   "cell_type": "markdown",
   "id": "a4425888-09d2-4f6f-9b16-267784ab9c1c",
   "metadata": {},
   "source": [
    "This type of data is perfect for a bar chart since it is categorical. That is, on the \n",
    "x-axis, we can put the categories corresponding to the five countries, and on the \n",
    "y-axis, we can plot the number of medals. Our goal is to obtain the following two plots:\n",
    "* a bar plot of the total number of medals per country\n",
    "* a stacked bar plot of the number of medals of each type per country"
   ]
  },
  {
   "cell_type": "code",
   "execution_count": 5,
   "id": "5b8ec977-fc7e-4463-90a0-69f9244ba3fa",
   "metadata": {},
   "outputs": [
    {
     "data": {
      "image/png": "[encoded data removed]",
      "text/plain": [
       "<Figure size 640x480 with 1 Axes>"
      ]
     },
     "metadata": {},
     "output_type": "display_data"
    }
   ],
   "source": [
    "# Total number of categories that we are working with in the x-axis\n",
    "x_cor = np.arange(5)\n",
    "# We want to plot the total number of medals so the variable total will go in height (of the bars)\n",
    "plt.bar(x_cor, total)\n",
    "# Include the names of the countries in the ticks\n",
    "plt.xticks(x_cor, countries)\n",
    "# Include labels and title\n",
    "plt.ylabel(\"Medals\")\n",
    "plt.xlabel(\"Countries\")\n",
    "plt.title(\"2016 Olympics Medals: Top Countries\")\n",
    "# color and style\n",
    "plt.bar(x_cor, total, color=\"green\", edgecolor=\"black\")\n",
    "plt.show()"
   ]
  },
  {
   "cell_type": "markdown",
   "id": "c2900fca-d333-43f2-982d-4532939099db",
   "metadata": {},
   "source": [
    "Now, let’s differentiate between the three types of medals. We will use what is called a stacked bar chart. We will divide each bar into three sections corresponding to each type of medal. To do this, we make use of the parameter bottom. The documentation says that this is an optional parameter that gives the \n",
    "y-coordinate of the bars. By default, all of our bars in the previous plot were plotting at coordinate 0, meaning at the bottom of our plot. What we want to do now is to actually plot three separate plots:\n",
    "* the first, denoting the number of bronze medals starting at the bottom (just like our first plot)\n",
    "* the second, denoting the number of silver medals that goes on top of the bronze bars\n",
    "* and the third, denoting the number of gold medals that goes on top of the silver bars"
   ]
  },
  {
   "cell_type": "code",
   "execution_count": 6,
   "id": "a8367ec2-bf28-428d-b7da-89ea3d3447d1",
   "metadata": {},
   "outputs": [
    {
     "data": {
      "image/png": "[encoded data removed]",
      "text/plain": [
       "<Figure size 640x480 with 1 Axes>"
      ]
     },
     "metadata": {},
     "output_type": "display_data"
    }
   ],
   "source": [
    "# Three different charts for stacked histogram\n",
    "plt.bar(x_cor, bronzes, color=\"#CD853F\")\n",
    "plt.bar(x_cor, silvers, color=\"silver\", bottom=bronzes)\n",
    "plt.bar(x_cor, golds, color=\"gold\", bottom=silvers + bronzes)\n",
    "# Include the names of the countries in the ticks\n",
    "plt.xticks(x_cor, countries)\n",
    "# Include labels and title\n",
    "plt.ylabel(\"Medals\")\n",
    "plt.xlabel(\"Countries\")\n",
    "plt.title(\"2016 Olympics Medals: Top Countries\")\n",
    "plt.show()"
   ]
  },
  {
   "cell_type": "markdown",
   "id": "9233809f-42ec-437a-b19e-a05c17a559b2",
   "metadata": {},
   "source": [
    "Now we repeat it, but with better presentation."
   ]
  },
  {
   "cell_type": "code",
   "execution_count": 7,
   "id": "d2ea7845-91ab-4050-a57d-ec1c3292efe1",
   "metadata": {},
   "outputs": [
    {
     "data": {
      "image/png": "[encoded data removed]",
      "text/plain": [
       "<Figure size 640x480 with 1 Axes>"
      ]
     },
     "metadata": {},
     "output_type": "display_data"
    }
   ],
   "source": [
    "plt.bar(\n",
    "    x_cor,\n",
    "    golds,\n",
    "    color=\"gold\",\n",
    "    edgecolor=\"black\",\n",
    "    bottom=silvers + bronzes,\n",
    "    label=\"gold medals\",\n",
    ")\n",
    "plt.bar(\n",
    "    x_cor,\n",
    "    silvers,\n",
    "    color=\"silver\",\n",
    "    edgecolor=\"black\",\n",
    "    bottom=bronzes,\n",
    "    label=\"silver medals\",\n",
    ")\n",
    "plt.bar(x_cor, bronzes, color=\"#CD853F\", edgecolor=\"black\", label=\"bronze medals\")\n",
    "plt.legend(loc=\"upper right\")\n",
    "plt.title(\"2016 Olympics Medals: Top Countries\")\n",
    "plt.ylabel(\"Medals\")\n",
    "plt.xlabel(\"Countries\")\n",
    "plt.xticks(x_cor, countries)\n",
    "plt.show()"
   ]
  },
  {
   "cell_type": "markdown",
   "id": "a84427af-c942-475e-9be0-3df695b55fac",
   "metadata": {},
   "source": [
    "# **2.5 Reading files**  \n",
    "\n",
    "There is more than one way of reading files in Python, depending on the goals you are pursuing. The basic method is to use `open` and `close` functions, like the following code:   \n",
    "\n",
    "```python\n",
    "with open('readme.txt') as f:\n",
    "    lines = f.readlines()\n",
    "\n",
    "# Once you are done, you close the file.\n",
    "f.close()\n",
    "```\n",
    "  \n",
    "Since hydrological information oftenly is available as tabular data, such as data stored in spreadsheets or databases tables, we recommend to use the library **pandas**. This library will help you to explore, clean, and process your data. In pandas, a data table is called a *DataFrame*.\n",
    "\n",
    "During this course we will not go very deep in pandas, however we will learn basic and very useful functions to make statistical analysis of hydrological data.\n",
    "\n",
    "**Importing an Excel file**"
   ]
  },
  {
   "cell_type": "code",
   "execution_count": 8,
   "id": "b3924e5b-89d8-4079-a2fe-ba8a145a06cf",
   "metadata": {},
   "outputs": [],
   "source": [
    "import pandas as pd\n",
    "import numpy as np\n",
    "\n",
    "df = pd.read_excel(\"data/movies.xls\")"
   ]
  },
  {
   "cell_type": "markdown",
   "id": "8f7f117b-ae26-4fe8-8694-b5bb5d9dd2f3",
   "metadata": {},
   "source": [
    "We print the head and the first 5 rows."
   ]
  },
  {
   "cell_type": "code",
   "execution_count": 9,
   "id": "0c4af131-9a0c-4e94-8d3f-4f5704c81e4e",
   "metadata": {},
   "outputs": [
    {
     "data": {
      "text/html": [
       "<div>\n",
       "<style scoped>\n",
       "    .dataframe tbody tr th:only-of-type {\n",
       "        vertical-align: middle;\n",
       "    }\n",
       "\n",
       "    .dataframe tbody tr th {\n",
       "        vertical-align: top;\n",
       "    }\n",
       "\n",
       "    .dataframe thead th {\n",
       "        text-align: right;\n",
       "    }\n",
       "</style>\n",
       "<table border=\"1\" class=\"dataframe\">\n",
       "  <thead>\n",
       "    <tr style=\"text-align: right;\">\n",
       "      <th></th>\n",
       "      <th>Title</th>\n",
       "      <th>Year</th>\n",
       "      <th>Genres</th>\n",
       "      <th>Language</th>\n",
       "      <th>Country</th>\n",
       "      <th>Content Rating</th>\n",
       "      <th>Duration</th>\n",
       "      <th>Aspect Ratio</th>\n",
       "      <th>Budget</th>\n",
       "      <th>Gross Earnings</th>\n",
       "      <th>...</th>\n",
       "      <th>Facebook Likes - Actor 1</th>\n",
       "      <th>Facebook Likes - Actor 2</th>\n",
       "      <th>Facebook Likes - Actor 3</th>\n",
       "      <th>Facebook Likes - cast Total</th>\n",
       "      <th>Facebook likes - Movie</th>\n",
       "      <th>Facenumber in posters</th>\n",
       "      <th>User Votes</th>\n",
       "      <th>Reviews by Users</th>\n",
       "      <th>Reviews by Crtiics</th>\n",
       "      <th>IMDB Score</th>\n",
       "    </tr>\n",
       "  </thead>\n",
       "  <tbody>\n",
       "    <tr>\n",
       "      <th>0</th>\n",
       "      <td>Intolerance: Love's Struggle Throughout the Ages</td>\n",
       "      <td>1916</td>\n",
       "      <td>Drama|History|War</td>\n",
       "      <td>NaN</td>\n",
       "      <td>USA</td>\n",
       "      <td>Not Rated</td>\n",
       "      <td>123</td>\n",
       "      <td>1.33</td>\n",
       "      <td>385907.0</td>\n",
       "      <td>NaN</td>\n",
       "      <td>...</td>\n",
       "      <td>436</td>\n",
       "      <td>22</td>\n",
       "      <td>9.0</td>\n",
       "      <td>481</td>\n",
       "      <td>691</td>\n",
       "      <td>1</td>\n",
       "      <td>10718</td>\n",
       "      <td>88</td>\n",
       "      <td>69.0</td>\n",
       "      <td>8.0</td>\n",
       "    </tr>\n",
       "    <tr>\n",
       "      <th>1</th>\n",
       "      <td>Over the Hill to the Poorhouse</td>\n",
       "      <td>1920</td>\n",
       "      <td>Crime|Drama</td>\n",
       "      <td>NaN</td>\n",
       "      <td>USA</td>\n",
       "      <td>NaN</td>\n",
       "      <td>110</td>\n",
       "      <td>1.33</td>\n",
       "      <td>100000.0</td>\n",
       "      <td>3000000.0</td>\n",
       "      <td>...</td>\n",
       "      <td>2</td>\n",
       "      <td>2</td>\n",
       "      <td>0.0</td>\n",
       "      <td>4</td>\n",
       "      <td>0</td>\n",
       "      <td>1</td>\n",
       "      <td>5</td>\n",
       "      <td>1</td>\n",
       "      <td>1.0</td>\n",
       "      <td>4.8</td>\n",
       "    </tr>\n",
       "    <tr>\n",
       "      <th>2</th>\n",
       "      <td>The Big Parade</td>\n",
       "      <td>1925</td>\n",
       "      <td>Drama|Romance|War</td>\n",
       "      <td>NaN</td>\n",
       "      <td>USA</td>\n",
       "      <td>Not Rated</td>\n",
       "      <td>151</td>\n",
       "      <td>1.33</td>\n",
       "      <td>245000.0</td>\n",
       "      <td>NaN</td>\n",
       "      <td>...</td>\n",
       "      <td>81</td>\n",
       "      <td>12</td>\n",
       "      <td>6.0</td>\n",
       "      <td>108</td>\n",
       "      <td>226</td>\n",
       "      <td>0</td>\n",
       "      <td>4849</td>\n",
       "      <td>45</td>\n",
       "      <td>48.0</td>\n",
       "      <td>8.3</td>\n",
       "    </tr>\n",
       "    <tr>\n",
       "      <th>3</th>\n",
       "      <td>Metropolis</td>\n",
       "      <td>1927</td>\n",
       "      <td>Drama|Sci-Fi</td>\n",
       "      <td>German</td>\n",
       "      <td>Germany</td>\n",
       "      <td>Not Rated</td>\n",
       "      <td>145</td>\n",
       "      <td>1.33</td>\n",
       "      <td>6000000.0</td>\n",
       "      <td>26435.0</td>\n",
       "      <td>...</td>\n",
       "      <td>136</td>\n",
       "      <td>23</td>\n",
       "      <td>18.0</td>\n",
       "      <td>203</td>\n",
       "      <td>12000</td>\n",
       "      <td>1</td>\n",
       "      <td>111841</td>\n",
       "      <td>413</td>\n",
       "      <td>260.0</td>\n",
       "      <td>8.3</td>\n",
       "    </tr>\n",
       "    <tr>\n",
       "      <th>4</th>\n",
       "      <td>Pandora's Box</td>\n",
       "      <td>1929</td>\n",
       "      <td>Crime|Drama|Romance</td>\n",
       "      <td>German</td>\n",
       "      <td>Germany</td>\n",
       "      <td>Not Rated</td>\n",
       "      <td>110</td>\n",
       "      <td>1.33</td>\n",
       "      <td>NaN</td>\n",
       "      <td>9950.0</td>\n",
       "      <td>...</td>\n",
       "      <td>426</td>\n",
       "      <td>20</td>\n",
       "      <td>3.0</td>\n",
       "      <td>455</td>\n",
       "      <td>926</td>\n",
       "      <td>1</td>\n",
       "      <td>7431</td>\n",
       "      <td>84</td>\n",
       "      <td>71.0</td>\n",
       "      <td>8.0</td>\n",
       "    </tr>\n",
       "  </tbody>\n",
       "</table>\n",
       "<p>5 rows × 25 columns</p>\n",
       "</div>"
      ],
      "text/plain": [
       "                                               Title  Year  \\\n",
       "0  Intolerance: Love's Struggle Throughout the Ages   1916   \n",
       "1                    Over the Hill to the Poorhouse   1920   \n",
       "2                                    The Big Parade   1925   \n",
       "3                                        Metropolis   1927   \n",
       "4                                     Pandora's Box   1929   \n",
       "\n",
       "                Genres Language  Country Content Rating  Duration  \\\n",
       "0    Drama|History|War      NaN      USA      Not Rated       123   \n",
       "1          Crime|Drama      NaN      USA            NaN       110   \n",
       "2    Drama|Romance|War      NaN      USA      Not Rated       151   \n",
       "3         Drama|Sci-Fi   German  Germany      Not Rated       145   \n",
       "4  Crime|Drama|Romance   German  Germany      Not Rated       110   \n",
       "\n",
       "   Aspect Ratio     Budget  Gross Earnings  ... Facebook Likes - Actor 1  \\\n",
       "0          1.33   385907.0             NaN  ...                      436   \n",
       "1          1.33   100000.0       3000000.0  ...                        2   \n",
       "2          1.33   245000.0             NaN  ...                       81   \n",
       "3          1.33  6000000.0         26435.0  ...                      136   \n",
       "4          1.33        NaN          9950.0  ...                      426   \n",
       "\n",
       "  Facebook Likes - Actor 2 Facebook Likes - Actor 3  \\\n",
       "0                       22                      9.0   \n",
       "1                        2                      0.0   \n",
       "2                       12                      6.0   \n",
       "3                       23                     18.0   \n",
       "4                       20                      3.0   \n",
       "\n",
       "  Facebook Likes - cast Total  Facebook likes - Movie  Facenumber in posters  \\\n",
       "0                         481                     691                      1   \n",
       "1                           4                       0                      1   \n",
       "2                         108                     226                      0   \n",
       "3                         203                   12000                      1   \n",
       "4                         455                     926                      1   \n",
       "\n",
       "   User Votes  Reviews by Users  Reviews by Crtiics  IMDB Score  \n",
       "0       10718                88                69.0         8.0  \n",
       "1           5                 1                 1.0         4.8  \n",
       "2        4849                45                48.0         8.3  \n",
       "3      111841               413               260.0         8.3  \n",
       "4        7431                84                71.0         8.0  \n",
       "\n",
       "[5 rows x 25 columns]"
      ]
     },
     "execution_count": 9,
     "metadata": {},
     "output_type": "execute_result"
    }
   ],
   "source": [
    "df.head(5)"
   ]
  },
  {
   "cell_type": "markdown",
   "id": "4143b8e8-890f-40e7-a5c0-9e60269349a3",
   "metadata": {},
   "source": [
    "If we want to import only specific columns by number."
   ]
  },
  {
   "cell_type": "code",
   "execution_count": 10,
   "id": "13343ec2-b24e-42d4-93fe-242847375de1",
   "metadata": {},
   "outputs": [
    {
     "data": {
      "text/html": [
       "<div>\n",
       "<style scoped>\n",
       "    .dataframe tbody tr th:only-of-type {\n",
       "        vertical-align: middle;\n",
       "    }\n",
       "\n",
       "    .dataframe tbody tr th {\n",
       "        vertical-align: top;\n",
       "    }\n",
       "\n",
       "    .dataframe thead th {\n",
       "        text-align: right;\n",
       "    }\n",
       "</style>\n",
       "<table border=\"1\" class=\"dataframe\">\n",
       "  <thead>\n",
       "    <tr style=\"text-align: right;\">\n",
       "      <th></th>\n",
       "      <th>Year</th>\n",
       "      <th>Genres</th>\n",
       "      <th>Country</th>\n",
       "    </tr>\n",
       "  </thead>\n",
       "  <tbody>\n",
       "    <tr>\n",
       "      <th>0</th>\n",
       "      <td>1916</td>\n",
       "      <td>Drama|History|War</td>\n",
       "      <td>USA</td>\n",
       "    </tr>\n",
       "    <tr>\n",
       "      <th>1</th>\n",
       "      <td>1920</td>\n",
       "      <td>Crime|Drama</td>\n",
       "      <td>USA</td>\n",
       "    </tr>\n",
       "    <tr>\n",
       "      <th>2</th>\n",
       "      <td>1925</td>\n",
       "      <td>Drama|Romance|War</td>\n",
       "      <td>USA</td>\n",
       "    </tr>\n",
       "    <tr>\n",
       "      <th>3</th>\n",
       "      <td>1927</td>\n",
       "      <td>Drama|Sci-Fi</td>\n",
       "      <td>Germany</td>\n",
       "    </tr>\n",
       "    <tr>\n",
       "      <th>4</th>\n",
       "      <td>1929</td>\n",
       "      <td>Crime|Drama|Romance</td>\n",
       "      <td>Germany</td>\n",
       "    </tr>\n",
       "  </tbody>\n",
       "</table>\n",
       "</div>"
      ],
      "text/plain": [
       "   Year               Genres  Country\n",
       "0  1916    Drama|History|War      USA\n",
       "1  1920          Crime|Drama      USA\n",
       "2  1925    Drama|Romance|War      USA\n",
       "3  1927         Drama|Sci-Fi  Germany\n",
       "4  1929  Crime|Drama|Romance  Germany"
      ]
     },
     "execution_count": 10,
     "metadata": {},
     "output_type": "execute_result"
    }
   ],
   "source": [
    "cols = [1, 2, 4]\n",
    "df = pd.read_excel(\"data/movies.xls\", usecols=cols)\n",
    "df.head(5)"
   ]
  },
  {
   "cell_type": "markdown",
   "id": "7ddee8dc-e6f1-4c1a-b962-7b1d33f3ef00",
   "metadata": {},
   "source": [
    "Or by name:"
   ]
  },
  {
   "cell_type": "code",
   "execution_count": 11,
   "id": "727771be-d99a-4481-b164-fd0303718420",
   "metadata": {},
   "outputs": [
    {
     "data": {
      "text/html": [
       "<div>\n",
       "<style scoped>\n",
       "    .dataframe tbody tr th:only-of-type {\n",
       "        vertical-align: middle;\n",
       "    }\n",
       "\n",
       "    .dataframe tbody tr th {\n",
       "        vertical-align: top;\n",
       "    }\n",
       "\n",
       "    .dataframe thead th {\n",
       "        text-align: right;\n",
       "    }\n",
       "</style>\n",
       "<table border=\"1\" class=\"dataframe\">\n",
       "  <thead>\n",
       "    <tr style=\"text-align: right;\">\n",
       "      <th></th>\n",
       "      <th>Genres</th>\n",
       "      <th>Duration</th>\n",
       "      <th>Budget</th>\n",
       "    </tr>\n",
       "  </thead>\n",
       "  <tbody>\n",
       "    <tr>\n",
       "      <th>0</th>\n",
       "      <td>Drama|History|War</td>\n",
       "      <td>123</td>\n",
       "      <td>385907.0</td>\n",
       "    </tr>\n",
       "    <tr>\n",
       "      <th>1</th>\n",
       "      <td>Crime|Drama</td>\n",
       "      <td>110</td>\n",
       "      <td>100000.0</td>\n",
       "    </tr>\n",
       "    <tr>\n",
       "      <th>2</th>\n",
       "      <td>Drama|Romance|War</td>\n",
       "      <td>151</td>\n",
       "      <td>245000.0</td>\n",
       "    </tr>\n",
       "    <tr>\n",
       "      <th>3</th>\n",
       "      <td>Drama|Sci-Fi</td>\n",
       "      <td>145</td>\n",
       "      <td>6000000.0</td>\n",
       "    </tr>\n",
       "    <tr>\n",
       "      <th>4</th>\n",
       "      <td>Crime|Drama|Romance</td>\n",
       "      <td>110</td>\n",
       "      <td>NaN</td>\n",
       "    </tr>\n",
       "  </tbody>\n",
       "</table>\n",
       "</div>"
      ],
      "text/plain": [
       "                Genres  Duration     Budget\n",
       "0    Drama|History|War       123   385907.0\n",
       "1          Crime|Drama       110   100000.0\n",
       "2    Drama|Romance|War       151   245000.0\n",
       "3         Drama|Sci-Fi       145  6000000.0\n",
       "4  Crime|Drama|Romance       110        NaN"
      ]
     },
     "execution_count": 11,
     "metadata": {},
     "output_type": "execute_result"
    }
   ],
   "source": [
    "cols = [\"Genres\", \"Duration\", \"Budget\"]\n",
    "df = pd.read_excel(\"data/movies.xls\", usecols=cols)\n",
    "df.head(5)"
   ]
  },
  {
   "cell_type": "markdown",
   "id": "9a173bda-6318-4a3d-aa36-5ff9152d89a9",
   "metadata": {},
   "source": [
    "If we want to get the sum, mean, max, and min values of 'Gross Earnings'."
   ]
  },
  {
   "cell_type": "code",
   "execution_count": 12,
   "id": "3a11dd8e-bf35-4252-959f-59e3f40fc7d2",
   "metadata": {},
   "outputs": [
    {
     "name": "stdout",
     "output_type": "stream",
     "text": [
      "Sum:  51614768658.0\n",
      "Mean:  47527411.287292816\n",
      "Maximum:  658672302.0\n",
      "Minimum:  5494.0\n"
     ]
    }
   ],
   "source": [
    "df = pd.read_excel(\"data/movies.xls\")\n",
    "\n",
    "print(\"Sum: \", df[\"Gross Earnings\"].sum())\n",
    "print(\"Mean: \", df[\"Gross Earnings\"].mean())\n",
    "print(\"Maximum: \", df[\"Gross Earnings\"].max())\n",
    "print(\"Minimum: \", df[\"Gross Earnings\"].min())"
   ]
  },
  {
   "cell_type": "markdown",
   "id": "3e747648-0e46-406a-bc91-d4c29b4a0ace",
   "metadata": {},
   "source": [
    "We can explore the data on other aspects like shape of the file or its last elements. A fast way of seeing the characteristics of the data base is through the method `describe()`."
   ]
  },
  {
   "cell_type": "code",
   "execution_count": 13,
   "id": "1fe9c3fe-7c41-4cbc-a103-62b1f127e615",
   "metadata": {},
   "outputs": [
    {
     "data": {
      "text/html": [
       "<div>\n",
       "<style scoped>\n",
       "    .dataframe tbody tr th:only-of-type {\n",
       "        vertical-align: middle;\n",
       "    }\n",
       "\n",
       "    .dataframe tbody tr th {\n",
       "        vertical-align: top;\n",
       "    }\n",
       "\n",
       "    .dataframe thead th {\n",
       "        text-align: right;\n",
       "    }\n",
       "</style>\n",
       "<table border=\"1\" class=\"dataframe\">\n",
       "  <thead>\n",
       "    <tr style=\"text-align: right;\">\n",
       "      <th></th>\n",
       "      <th>Year</th>\n",
       "      <th>Duration</th>\n",
       "      <th>Aspect Ratio</th>\n",
       "      <th>Budget</th>\n",
       "      <th>Gross Earnings</th>\n",
       "      <th>Facebook Likes - Director</th>\n",
       "      <th>Facebook Likes - Actor 1</th>\n",
       "      <th>Facebook Likes - Actor 2</th>\n",
       "      <th>Facebook Likes - Actor 3</th>\n",
       "      <th>Facebook Likes - cast Total</th>\n",
       "      <th>Facebook likes - Movie</th>\n",
       "      <th>Facenumber in posters</th>\n",
       "      <th>User Votes</th>\n",
       "      <th>Reviews by Users</th>\n",
       "      <th>Reviews by Crtiics</th>\n",
       "      <th>IMDB Score</th>\n",
       "    </tr>\n",
       "  </thead>\n",
       "  <tbody>\n",
       "    <tr>\n",
       "      <th>count</th>\n",
       "      <td>1338.000000</td>\n",
       "      <td>1338.000000</td>\n",
       "      <td>1308.000000</td>\n",
       "      <td>1.281000e+03</td>\n",
       "      <td>1.086000e+03</td>\n",
       "      <td>1338.000000</td>\n",
       "      <td>1338.000000</td>\n",
       "      <td>1338.000000</td>\n",
       "      <td>1336.000000</td>\n",
       "      <td>1338.000000</td>\n",
       "      <td>1338.000000</td>\n",
       "      <td>1338.000000</td>\n",
       "      <td>1.338000e+03</td>\n",
       "      <td>1338.000000</td>\n",
       "      <td>1335.000000</td>\n",
       "      <td>1338.000000</td>\n",
       "    </tr>\n",
       "    <tr>\n",
       "      <th>mean</th>\n",
       "      <td>1987.289985</td>\n",
       "      <td>113.071001</td>\n",
       "      <td>1.987752</td>\n",
       "      <td>2.712064e+07</td>\n",
       "      <td>4.752741e+07</td>\n",
       "      <td>1026.567265</td>\n",
       "      <td>5255.186846</td>\n",
       "      <td>1227.041106</td>\n",
       "      <td>456.738772</td>\n",
       "      <td>7673.354260</td>\n",
       "      <td>2656.870703</td>\n",
       "      <td>1.167414</td>\n",
       "      <td>8.538817e+04</td>\n",
       "      <td>255.183857</td>\n",
       "      <td>85.108614</td>\n",
       "      <td>6.702167</td>\n",
       "    </tr>\n",
       "    <tr>\n",
       "      <th>std</th>\n",
       "      <td>14.124870</td>\n",
       "      <td>27.434048</td>\n",
       "      <td>0.310047</td>\n",
       "      <td>8.466937e+07</td>\n",
       "      <td>6.113161e+07</td>\n",
       "      <td>3446.329257</td>\n",
       "      <td>8652.096738</td>\n",
       "      <td>2891.932284</td>\n",
       "      <td>880.031542</td>\n",
       "      <td>11055.985788</td>\n",
       "      <td>7446.142461</td>\n",
       "      <td>1.608806</td>\n",
       "      <td>1.560198e+05</td>\n",
       "      <td>343.287920</td>\n",
       "      <td>62.040982</td>\n",
       "      <td>1.066497</td>\n",
       "    </tr>\n",
       "    <tr>\n",
       "      <th>min</th>\n",
       "      <td>1916.000000</td>\n",
       "      <td>25.000000</td>\n",
       "      <td>1.180000</td>\n",
       "      <td>7.000000e+03</td>\n",
       "      <td>5.494000e+03</td>\n",
       "      <td>0.000000</td>\n",
       "      <td>0.000000</td>\n",
       "      <td>0.000000</td>\n",
       "      <td>0.000000</td>\n",
       "      <td>0.000000</td>\n",
       "      <td>0.000000</td>\n",
       "      <td>0.000000</td>\n",
       "      <td>5.000000e+00</td>\n",
       "      <td>1.000000</td>\n",
       "      <td>1.000000</td>\n",
       "      <td>2.300000</td>\n",
       "    </tr>\n",
       "    <tr>\n",
       "      <th>25%</th>\n",
       "      <td>1982.000000</td>\n",
       "      <td>96.000000</td>\n",
       "      <td>1.850000</td>\n",
       "      <td>4.000000e+06</td>\n",
       "      <td>8.182800e+06</td>\n",
       "      <td>6.000000</td>\n",
       "      <td>605.000000</td>\n",
       "      <td>273.000000</td>\n",
       "      <td>136.000000</td>\n",
       "      <td>1412.000000</td>\n",
       "      <td>0.000000</td>\n",
       "      <td>0.000000</td>\n",
       "      <td>9.905500e+03</td>\n",
       "      <td>77.250000</td>\n",
       "      <td>39.000000</td>\n",
       "      <td>6.100000</td>\n",
       "    </tr>\n",
       "    <tr>\n",
       "      <th>50%</th>\n",
       "      <td>1993.000000</td>\n",
       "      <td>107.000000</td>\n",
       "      <td>1.850000</td>\n",
       "      <td>1.400000e+07</td>\n",
       "      <td>2.724075e+07</td>\n",
       "      <td>56.500000</td>\n",
       "      <td>925.500000</td>\n",
       "      <td>559.000000</td>\n",
       "      <td>324.000000</td>\n",
       "      <td>2660.000000</td>\n",
       "      <td>17.500000</td>\n",
       "      <td>1.000000</td>\n",
       "      <td>3.370500e+04</td>\n",
       "      <td>159.000000</td>\n",
       "      <td>71.000000</td>\n",
       "      <td>6.800000</td>\n",
       "    </tr>\n",
       "    <tr>\n",
       "      <th>75%</th>\n",
       "      <td>1997.000000</td>\n",
       "      <td>123.000000</td>\n",
       "      <td>2.350000</td>\n",
       "      <td>3.300000e+07</td>\n",
       "      <td>6.358500e+07</td>\n",
       "      <td>272.000000</td>\n",
       "      <td>10000.000000</td>\n",
       "      <td>849.000000</td>\n",
       "      <td>586.500000</td>\n",
       "      <td>11937.750000</td>\n",
       "      <td>812.000000</td>\n",
       "      <td>2.000000</td>\n",
       "      <td>9.031425e+04</td>\n",
       "      <td>306.750000</td>\n",
       "      <td>118.000000</td>\n",
       "      <td>7.400000</td>\n",
       "    </tr>\n",
       "    <tr>\n",
       "      <th>max</th>\n",
       "      <td>1999.000000</td>\n",
       "      <td>330.000000</td>\n",
       "      <td>2.760000</td>\n",
       "      <td>2.400000e+09</td>\n",
       "      <td>6.586723e+08</td>\n",
       "      <td>21000.000000</td>\n",
       "      <td>49000.000000</td>\n",
       "      <td>29000.000000</td>\n",
       "      <td>13000.000000</td>\n",
       "      <td>74382.000000</td>\n",
       "      <td>108000.000000</td>\n",
       "      <td>15.000000</td>\n",
       "      <td>1.689764e+06</td>\n",
       "      <td>4144.000000</td>\n",
       "      <td>392.000000</td>\n",
       "      <td>9.300000</td>\n",
       "    </tr>\n",
       "  </tbody>\n",
       "</table>\n",
       "</div>"
      ],
      "text/plain": [
       "              Year     Duration  Aspect Ratio        Budget  Gross Earnings  \\\n",
       "count  1338.000000  1338.000000   1308.000000  1.281000e+03    1.086000e+03   \n",
       "mean   1987.289985   113.071001      1.987752  2.712064e+07    4.752741e+07   \n",
       "std      14.124870    27.434048      0.310047  8.466937e+07    6.113161e+07   \n",
       "min    1916.000000    25.000000      1.180000  7.000000e+03    5.494000e+03   \n",
       "25%    1982.000000    96.000000      1.850000  4.000000e+06    8.182800e+06   \n",
       "50%    1993.000000   107.000000      1.850000  1.400000e+07    2.724075e+07   \n",
       "75%    1997.000000   123.000000      2.350000  3.300000e+07    6.358500e+07   \n",
       "max    1999.000000   330.000000      2.760000  2.400000e+09    6.586723e+08   \n",
       "\n",
       "       Facebook Likes - Director  Facebook Likes - Actor 1  \\\n",
       "count                1338.000000               1338.000000   \n",
       "mean                 1026.567265               5255.186846   \n",
       "std                  3446.329257               8652.096738   \n",
       "min                     0.000000                  0.000000   \n",
       "25%                     6.000000                605.000000   \n",
       "50%                    56.500000                925.500000   \n",
       "75%                   272.000000              10000.000000   \n",
       "max                 21000.000000              49000.000000   \n",
       "\n",
       "       Facebook Likes - Actor 2  Facebook Likes - Actor 3  \\\n",
       "count               1338.000000               1336.000000   \n",
       "mean                1227.041106                456.738772   \n",
       "std                 2891.932284                880.031542   \n",
       "min                    0.000000                  0.000000   \n",
       "25%                  273.000000                136.000000   \n",
       "50%                  559.000000                324.000000   \n",
       "75%                  849.000000                586.500000   \n",
       "max                29000.000000              13000.000000   \n",
       "\n",
       "       Facebook Likes - cast Total  Facebook likes - Movie  \\\n",
       "count                  1338.000000             1338.000000   \n",
       "mean                   7673.354260             2656.870703   \n",
       "std                   11055.985788             7446.142461   \n",
       "min                       0.000000                0.000000   \n",
       "25%                    1412.000000                0.000000   \n",
       "50%                    2660.000000               17.500000   \n",
       "75%                   11937.750000              812.000000   \n",
       "max                   74382.000000           108000.000000   \n",
       "\n",
       "       Facenumber in posters    User Votes  Reviews by Users  \\\n",
       "count            1338.000000  1.338000e+03       1338.000000   \n",
       "mean                1.167414  8.538817e+04        255.183857   \n",
       "std                 1.608806  1.560198e+05        343.287920   \n",
       "min                 0.000000  5.000000e+00          1.000000   \n",
       "25%                 0.000000  9.905500e+03         77.250000   \n",
       "50%                 1.000000  3.370500e+04        159.000000   \n",
       "75%                 2.000000  9.031425e+04        306.750000   \n",
       "max                15.000000  1.689764e+06       4144.000000   \n",
       "\n",
       "       Reviews by Crtiics   IMDB Score  \n",
       "count         1335.000000  1338.000000  \n",
       "mean            85.108614     6.702167  \n",
       "std             62.040982     1.066497  \n",
       "min              1.000000     2.300000  \n",
       "25%             39.000000     6.100000  \n",
       "50%             71.000000     6.800000  \n",
       "75%            118.000000     7.400000  \n",
       "max            392.000000     9.300000  "
      ]
     },
     "execution_count": 13,
     "metadata": {},
     "output_type": "execute_result"
    }
   ],
   "source": [
    "df.describe()"
   ]
  },
  {
   "cell_type": "markdown",
   "id": "90226d01-39e3-46ec-9058-ed2d4a17a288",
   "metadata": {},
   "source": [
    "We can also sort the file based on a specific column:"
   ]
  },
  {
   "cell_type": "code",
   "execution_count": 14,
   "id": "2b0f27bb-7912-413b-96d9-e0998c04cb92",
   "metadata": {},
   "outputs": [],
   "source": [
    "sorted_by_gross = df.sort_values([\"Gross Earnings\"], ascending=False)"
   ]
  },
  {
   "cell_type": "code",
   "execution_count": 15,
   "id": "97b3577f-5b0b-416e-b74c-6ddf6f69107e",
   "metadata": {},
   "outputs": [
    {
     "data": {
      "text/html": [
       "<div>\n",
       "<style scoped>\n",
       "    .dataframe tbody tr th:only-of-type {\n",
       "        vertical-align: middle;\n",
       "    }\n",
       "\n",
       "    .dataframe tbody tr th {\n",
       "        vertical-align: top;\n",
       "    }\n",
       "\n",
       "    .dataframe thead th {\n",
       "        text-align: right;\n",
       "    }\n",
       "</style>\n",
       "<table border=\"1\" class=\"dataframe\">\n",
       "  <thead>\n",
       "    <tr style=\"text-align: right;\">\n",
       "      <th></th>\n",
       "      <th>Title</th>\n",
       "      <th>Year</th>\n",
       "      <th>Genres</th>\n",
       "      <th>Language</th>\n",
       "      <th>Country</th>\n",
       "      <th>Content Rating</th>\n",
       "      <th>Duration</th>\n",
       "      <th>Aspect Ratio</th>\n",
       "      <th>Budget</th>\n",
       "      <th>Gross Earnings</th>\n",
       "      <th>...</th>\n",
       "      <th>Facebook Likes - Actor 1</th>\n",
       "      <th>Facebook Likes - Actor 2</th>\n",
       "      <th>Facebook Likes - Actor 3</th>\n",
       "      <th>Facebook Likes - cast Total</th>\n",
       "      <th>Facebook likes - Movie</th>\n",
       "      <th>Facenumber in posters</th>\n",
       "      <th>User Votes</th>\n",
       "      <th>Reviews by Users</th>\n",
       "      <th>Reviews by Crtiics</th>\n",
       "      <th>IMDB Score</th>\n",
       "    </tr>\n",
       "  </thead>\n",
       "  <tbody>\n",
       "    <tr>\n",
       "      <th>1027</th>\n",
       "      <td>Titanic</td>\n",
       "      <td>1997</td>\n",
       "      <td>Drama|Romance</td>\n",
       "      <td>English</td>\n",
       "      <td>USA</td>\n",
       "      <td>PG-13</td>\n",
       "      <td>194</td>\n",
       "      <td>2.35</td>\n",
       "      <td>200000000.0</td>\n",
       "      <td>658672302.0</td>\n",
       "      <td>...</td>\n",
       "      <td>29000</td>\n",
       "      <td>14000</td>\n",
       "      <td>794.0</td>\n",
       "      <td>45223</td>\n",
       "      <td>26000</td>\n",
       "      <td>0</td>\n",
       "      <td>793059</td>\n",
       "      <td>2528</td>\n",
       "      <td>315.0</td>\n",
       "      <td>7.7</td>\n",
       "    </tr>\n",
       "    <tr>\n",
       "      <th>1281</th>\n",
       "      <td>Star Wars: Episode I - The Phantom Menace</td>\n",
       "      <td>1999</td>\n",
       "      <td>Action|Adventure|Fantasy|Sci-Fi</td>\n",
       "      <td>English</td>\n",
       "      <td>USA</td>\n",
       "      <td>PG</td>\n",
       "      <td>136</td>\n",
       "      <td>2.35</td>\n",
       "      <td>115000000.0</td>\n",
       "      <td>474544677.0</td>\n",
       "      <td>...</td>\n",
       "      <td>20000</td>\n",
       "      <td>14000</td>\n",
       "      <td>1000.0</td>\n",
       "      <td>37723</td>\n",
       "      <td>13000</td>\n",
       "      <td>1</td>\n",
       "      <td>534658</td>\n",
       "      <td>3597</td>\n",
       "      <td>320.0</td>\n",
       "      <td>6.5</td>\n",
       "    </tr>\n",
       "    <tr>\n",
       "      <th>226</th>\n",
       "      <td>Star Wars: Episode IV - A New Hope</td>\n",
       "      <td>1977</td>\n",
       "      <td>Action|Adventure|Fantasy|Sci-Fi</td>\n",
       "      <td>English</td>\n",
       "      <td>USA</td>\n",
       "      <td>PG</td>\n",
       "      <td>125</td>\n",
       "      <td>2.35</td>\n",
       "      <td>11000000.0</td>\n",
       "      <td>460935665.0</td>\n",
       "      <td>...</td>\n",
       "      <td>11000</td>\n",
       "      <td>1000</td>\n",
       "      <td>504.0</td>\n",
       "      <td>13485</td>\n",
       "      <td>33000</td>\n",
       "      <td>1</td>\n",
       "      <td>911097</td>\n",
       "      <td>1470</td>\n",
       "      <td>282.0</td>\n",
       "      <td>8.7</td>\n",
       "    </tr>\n",
       "    <tr>\n",
       "      <th>328</th>\n",
       "      <td>E.T. the Extra-Terrestrial</td>\n",
       "      <td>1982</td>\n",
       "      <td>Family|Sci-Fi</td>\n",
       "      <td>English</td>\n",
       "      <td>USA</td>\n",
       "      <td>PG</td>\n",
       "      <td>120</td>\n",
       "      <td>1.85</td>\n",
       "      <td>10500000.0</td>\n",
       "      <td>434949459.0</td>\n",
       "      <td>...</td>\n",
       "      <td>861</td>\n",
       "      <td>725</td>\n",
       "      <td>548.0</td>\n",
       "      <td>2811</td>\n",
       "      <td>34000</td>\n",
       "      <td>0</td>\n",
       "      <td>281842</td>\n",
       "      <td>515</td>\n",
       "      <td>215.0</td>\n",
       "      <td>7.9</td>\n",
       "    </tr>\n",
       "    <tr>\n",
       "      <th>737</th>\n",
       "      <td>The Lion King</td>\n",
       "      <td>1994</td>\n",
       "      <td>Adventure|Animation|Drama|Family|Musical</td>\n",
       "      <td>English</td>\n",
       "      <td>USA</td>\n",
       "      <td>G</td>\n",
       "      <td>73</td>\n",
       "      <td>1.66</td>\n",
       "      <td>45000000.0</td>\n",
       "      <td>422783777.0</td>\n",
       "      <td>...</td>\n",
       "      <td>2000</td>\n",
       "      <td>886</td>\n",
       "      <td>847.0</td>\n",
       "      <td>6458</td>\n",
       "      <td>17000</td>\n",
       "      <td>0</td>\n",
       "      <td>644348</td>\n",
       "      <td>656</td>\n",
       "      <td>186.0</td>\n",
       "      <td>8.5</td>\n",
       "    </tr>\n",
       "  </tbody>\n",
       "</table>\n",
       "<p>5 rows × 25 columns</p>\n",
       "</div>"
      ],
      "text/plain": [
       "                                           Title  Year  \\\n",
       "1027                                    Titanic   1997   \n",
       "1281  Star Wars: Episode I - The Phantom Menace   1999   \n",
       "226          Star Wars: Episode IV - A New Hope   1977   \n",
       "328                  E.T. the Extra-Terrestrial   1982   \n",
       "737                               The Lion King   1994   \n",
       "\n",
       "                                        Genres Language Country  \\\n",
       "1027                             Drama|Romance  English     USA   \n",
       "1281           Action|Adventure|Fantasy|Sci-Fi  English     USA   \n",
       "226            Action|Adventure|Fantasy|Sci-Fi  English     USA   \n",
       "328                              Family|Sci-Fi  English     USA   \n",
       "737   Adventure|Animation|Drama|Family|Musical  English     USA   \n",
       "\n",
       "     Content Rating  Duration  Aspect Ratio       Budget  Gross Earnings  ...  \\\n",
       "1027          PG-13       194          2.35  200000000.0     658672302.0  ...   \n",
       "1281             PG       136          2.35  115000000.0     474544677.0  ...   \n",
       "226              PG       125          2.35   11000000.0     460935665.0  ...   \n",
       "328              PG       120          1.85   10500000.0     434949459.0  ...   \n",
       "737               G        73          1.66   45000000.0     422783777.0  ...   \n",
       "\n",
       "     Facebook Likes - Actor 1 Facebook Likes - Actor 2  \\\n",
       "1027                    29000                    14000   \n",
       "1281                    20000                    14000   \n",
       "226                     11000                     1000   \n",
       "328                       861                      725   \n",
       "737                      2000                      886   \n",
       "\n",
       "     Facebook Likes - Actor 3 Facebook Likes - cast Total  \\\n",
       "1027                    794.0                       45223   \n",
       "1281                   1000.0                       37723   \n",
       "226                     504.0                       13485   \n",
       "328                     548.0                        2811   \n",
       "737                     847.0                        6458   \n",
       "\n",
       "      Facebook likes - Movie  Facenumber in posters  User Votes  \\\n",
       "1027                   26000                      0      793059   \n",
       "1281                   13000                      1      534658   \n",
       "226                    33000                      1      911097   \n",
       "328                    34000                      0      281842   \n",
       "737                    17000                      0      644348   \n",
       "\n",
       "      Reviews by Users  Reviews by Crtiics  IMDB Score  \n",
       "1027              2528               315.0         7.7  \n",
       "1281              3597               320.0         6.5  \n",
       "226               1470               282.0         8.7  \n",
       "328                515               215.0         7.9  \n",
       "737                656               186.0         8.5  \n",
       "\n",
       "[5 rows x 25 columns]"
      ]
     },
     "execution_count": 15,
     "metadata": {},
     "output_type": "execute_result"
    }
   ],
   "source": [
    "sorted_by_gross.head()"
   ]
  },
  {
   "cell_type": "markdown",
   "id": "6b325138-19e5-47a9-ad8e-e439460527bc",
   "metadata": {},
   "source": [
    "We can directly plot the data sorted."
   ]
  },
  {
   "cell_type": "code",
   "execution_count": 16,
   "id": "4acfd076-282d-4038-bb56-5c679b9e64ea",
   "metadata": {},
   "outputs": [
    {
     "data": {
      "image/png": "[encoded data removed]",
      "text/plain": [
       "<Figure size 640x480 with 1 Axes>"
      ]
     },
     "metadata": {},
     "output_type": "display_data"
    }
   ],
   "source": [
    "sorted_by_gross[\"Gross Earnings\"].head(10).plot(kind=\"barh\")\n",
    "plt.show()"
   ]
  },
  {
   "cell_type": "markdown",
   "id": "4455f6fe-070a-4b92-ad48-d6eb785fb2ba",
   "metadata": {},
   "source": [
    "Or create a histogram of a specific column."
   ]
  },
  {
   "cell_type": "code",
   "execution_count": 17,
   "id": "d66ecba5-6c51-4a4b-9247-102ba649d907",
   "metadata": {
    "tags": []
   },
   "outputs": [
    {
     "data": {
      "image/png": "[encoded data removed]",
      "text/plain": [
       "<Figure size 640x480 with 1 Axes>"
      ]
     },
     "metadata": {},
     "output_type": "display_data"
    }
   ],
   "source": [
    "df[\"IMDB Score\"].plot(kind=\"hist\")\n",
    "plt.show()"
   ]
  },
  {
   "cell_type": "markdown",
   "id": "91648ca2-a2f9-468f-8424-c8b04cebead5",
   "metadata": {},
   "source": [
    "We can also filtrate by Earnings. For example, we can choose those movies with earnings over 1 $USD million."
   ]
  },
  {
   "cell_type": "code",
   "execution_count": 18,
   "id": "e573ff61-bfdc-4b25-88eb-0380a1347c2a",
   "metadata": {},
   "outputs": [],
   "source": [
    "filtered_byEarnings = df[df[\"Gross Earnings\"] > 1000000].sort_values(\n",
    "    [\"Gross Earnings\"], ascending=False\n",
    ")"
   ]
  },
  {
   "cell_type": "markdown",
   "id": "99ffd105-a799-4763-9916-d6c3a5564078",
   "metadata": {},
   "source": [
    "We show the resulting data frame. If you change the value, you can see how it changes the number of rows as well."
   ]
  },
  {
   "cell_type": "code",
   "execution_count": 19,
   "id": "86f288c1-66b5-40ab-9803-74aab445696f",
   "metadata": {},
   "outputs": [
    {
     "data": {
      "text/html": [
       "<div>\n",
       "<style scoped>\n",
       "    .dataframe tbody tr th:only-of-type {\n",
       "        vertical-align: middle;\n",
       "    }\n",
       "\n",
       "    .dataframe tbody tr th {\n",
       "        vertical-align: top;\n",
       "    }\n",
       "\n",
       "    .dataframe thead th {\n",
       "        text-align: right;\n",
       "    }\n",
       "</style>\n",
       "<table border=\"1\" class=\"dataframe\">\n",
       "  <thead>\n",
       "    <tr style=\"text-align: right;\">\n",
       "      <th></th>\n",
       "      <th>Title</th>\n",
       "      <th>Year</th>\n",
       "      <th>Genres</th>\n",
       "      <th>Language</th>\n",
       "      <th>Country</th>\n",
       "      <th>Content Rating</th>\n",
       "      <th>Duration</th>\n",
       "      <th>Aspect Ratio</th>\n",
       "      <th>Budget</th>\n",
       "      <th>Gross Earnings</th>\n",
       "      <th>...</th>\n",
       "      <th>Facebook Likes - Actor 1</th>\n",
       "      <th>Facebook Likes - Actor 2</th>\n",
       "      <th>Facebook Likes - Actor 3</th>\n",
       "      <th>Facebook Likes - cast Total</th>\n",
       "      <th>Facebook likes - Movie</th>\n",
       "      <th>Facenumber in posters</th>\n",
       "      <th>User Votes</th>\n",
       "      <th>Reviews by Users</th>\n",
       "      <th>Reviews by Crtiics</th>\n",
       "      <th>IMDB Score</th>\n",
       "    </tr>\n",
       "  </thead>\n",
       "  <tbody>\n",
       "    <tr>\n",
       "      <th>1027</th>\n",
       "      <td>Titanic</td>\n",
       "      <td>1997</td>\n",
       "      <td>Drama|Romance</td>\n",
       "      <td>English</td>\n",
       "      <td>USA</td>\n",
       "      <td>PG-13</td>\n",
       "      <td>194</td>\n",
       "      <td>2.35</td>\n",
       "      <td>200000000.0</td>\n",
       "      <td>658672302.0</td>\n",
       "      <td>...</td>\n",
       "      <td>29000</td>\n",
       "      <td>14000</td>\n",
       "      <td>794.0</td>\n",
       "      <td>45223</td>\n",
       "      <td>26000</td>\n",
       "      <td>0</td>\n",
       "      <td>793059</td>\n",
       "      <td>2528</td>\n",
       "      <td>315.0</td>\n",
       "      <td>7.7</td>\n",
       "    </tr>\n",
       "    <tr>\n",
       "      <th>1281</th>\n",
       "      <td>Star Wars: Episode I - The Phantom Menace</td>\n",
       "      <td>1999</td>\n",
       "      <td>Action|Adventure|Fantasy|Sci-Fi</td>\n",
       "      <td>English</td>\n",
       "      <td>USA</td>\n",
       "      <td>PG</td>\n",
       "      <td>136</td>\n",
       "      <td>2.35</td>\n",
       "      <td>115000000.0</td>\n",
       "      <td>474544677.0</td>\n",
       "      <td>...</td>\n",
       "      <td>20000</td>\n",
       "      <td>14000</td>\n",
       "      <td>1000.0</td>\n",
       "      <td>37723</td>\n",
       "      <td>13000</td>\n",
       "      <td>1</td>\n",
       "      <td>534658</td>\n",
       "      <td>3597</td>\n",
       "      <td>320.0</td>\n",
       "      <td>6.5</td>\n",
       "    </tr>\n",
       "    <tr>\n",
       "      <th>226</th>\n",
       "      <td>Star Wars: Episode IV - A New Hope</td>\n",
       "      <td>1977</td>\n",
       "      <td>Action|Adventure|Fantasy|Sci-Fi</td>\n",
       "      <td>English</td>\n",
       "      <td>USA</td>\n",
       "      <td>PG</td>\n",
       "      <td>125</td>\n",
       "      <td>2.35</td>\n",
       "      <td>11000000.0</td>\n",
       "      <td>460935665.0</td>\n",
       "      <td>...</td>\n",
       "      <td>11000</td>\n",
       "      <td>1000</td>\n",
       "      <td>504.0</td>\n",
       "      <td>13485</td>\n",
       "      <td>33000</td>\n",
       "      <td>1</td>\n",
       "      <td>911097</td>\n",
       "      <td>1470</td>\n",
       "      <td>282.0</td>\n",
       "      <td>8.7</td>\n",
       "    </tr>\n",
       "    <tr>\n",
       "      <th>328</th>\n",
       "      <td>E.T. the Extra-Terrestrial</td>\n",
       "      <td>1982</td>\n",
       "      <td>Family|Sci-Fi</td>\n",
       "      <td>English</td>\n",
       "      <td>USA</td>\n",
       "      <td>PG</td>\n",
       "      <td>120</td>\n",
       "      <td>1.85</td>\n",
       "      <td>10500000.0</td>\n",
       "      <td>434949459.0</td>\n",
       "      <td>...</td>\n",
       "      <td>861</td>\n",
       "      <td>725</td>\n",
       "      <td>548.0</td>\n",
       "      <td>2811</td>\n",
       "      <td>34000</td>\n",
       "      <td>0</td>\n",
       "      <td>281842</td>\n",
       "      <td>515</td>\n",
       "      <td>215.0</td>\n",
       "      <td>7.9</td>\n",
       "    </tr>\n",
       "    <tr>\n",
       "      <th>737</th>\n",
       "      <td>The Lion King</td>\n",
       "      <td>1994</td>\n",
       "      <td>Adventure|Animation|Drama|Family|Musical</td>\n",
       "      <td>English</td>\n",
       "      <td>USA</td>\n",
       "      <td>G</td>\n",
       "      <td>73</td>\n",
       "      <td>1.66</td>\n",
       "      <td>45000000.0</td>\n",
       "      <td>422783777.0</td>\n",
       "      <td>...</td>\n",
       "      <td>2000</td>\n",
       "      <td>886</td>\n",
       "      <td>847.0</td>\n",
       "      <td>6458</td>\n",
       "      <td>17000</td>\n",
       "      <td>0</td>\n",
       "      <td>644348</td>\n",
       "      <td>656</td>\n",
       "      <td>186.0</td>\n",
       "      <td>8.5</td>\n",
       "    </tr>\n",
       "    <tr>\n",
       "      <th>...</th>\n",
       "      <td>...</td>\n",
       "      <td>...</td>\n",
       "      <td>...</td>\n",
       "      <td>...</td>\n",
       "      <td>...</td>\n",
       "      <td>...</td>\n",
       "      <td>...</td>\n",
       "      <td>...</td>\n",
       "      <td>...</td>\n",
       "      <td>...</td>\n",
       "      <td>...</td>\n",
       "      <td>...</td>\n",
       "      <td>...</td>\n",
       "      <td>...</td>\n",
       "      <td>...</td>\n",
       "      <td>...</td>\n",
       "      <td>...</td>\n",
       "      <td>...</td>\n",
       "      <td>...</td>\n",
       "      <td>...</td>\n",
       "      <td>...</td>\n",
       "    </tr>\n",
       "    <tr>\n",
       "      <th>629</th>\n",
       "      <td>Light Sleeper</td>\n",
       "      <td>1992</td>\n",
       "      <td>Crime|Drama</td>\n",
       "      <td>English</td>\n",
       "      <td>USA</td>\n",
       "      <td>R</td>\n",
       "      <td>103</td>\n",
       "      <td>1.85</td>\n",
       "      <td>5000000.0</td>\n",
       "      <td>1100000.0</td>\n",
       "      <td>...</td>\n",
       "      <td>722</td>\n",
       "      <td>280</td>\n",
       "      <td>145.0</td>\n",
       "      <td>1201</td>\n",
       "      <td>247</td>\n",
       "      <td>0</td>\n",
       "      <td>3665</td>\n",
       "      <td>39</td>\n",
       "      <td>19.0</td>\n",
       "      <td>6.8</td>\n",
       "    </tr>\n",
       "    <tr>\n",
       "      <th>824</th>\n",
       "      <td>Blood and Wine</td>\n",
       "      <td>1996</td>\n",
       "      <td>Crime|Drama|Thriller</td>\n",
       "      <td>English</td>\n",
       "      <td>USA</td>\n",
       "      <td>R</td>\n",
       "      <td>101</td>\n",
       "      <td>1.85</td>\n",
       "      <td>22000000.0</td>\n",
       "      <td>1075288.0</td>\n",
       "      <td>...</td>\n",
       "      <td>1000</td>\n",
       "      <td>854</td>\n",
       "      <td>223.0</td>\n",
       "      <td>2228</td>\n",
       "      <td>145</td>\n",
       "      <td>3</td>\n",
       "      <td>7772</td>\n",
       "      <td>55</td>\n",
       "      <td>42.0</td>\n",
       "      <td>6.1</td>\n",
       "    </tr>\n",
       "    <tr>\n",
       "      <th>1161</th>\n",
       "      <td>Velvet Goldmine</td>\n",
       "      <td>1998</td>\n",
       "      <td>Drama|Music</td>\n",
       "      <td>English</td>\n",
       "      <td>UK</td>\n",
       "      <td>R</td>\n",
       "      <td>124</td>\n",
       "      <td>1.85</td>\n",
       "      <td>NaN</td>\n",
       "      <td>1043487.0</td>\n",
       "      <td>...</td>\n",
       "      <td>23000</td>\n",
       "      <td>776</td>\n",
       "      <td>277.0</td>\n",
       "      <td>24102</td>\n",
       "      <td>0</td>\n",
       "      <td>3</td>\n",
       "      <td>27766</td>\n",
       "      <td>314</td>\n",
       "      <td>103.0</td>\n",
       "      <td>7.0</td>\n",
       "    </tr>\n",
       "    <tr>\n",
       "      <th>826</th>\n",
       "      <td>Bottle Rocket</td>\n",
       "      <td>1996</td>\n",
       "      <td>Comedy|Crime|Drama</td>\n",
       "      <td>English</td>\n",
       "      <td>USA</td>\n",
       "      <td>R</td>\n",
       "      <td>91</td>\n",
       "      <td>1.85</td>\n",
       "      <td>7000000.0</td>\n",
       "      <td>1040879.0</td>\n",
       "      <td>...</td>\n",
       "      <td>387</td>\n",
       "      <td>96</td>\n",
       "      <td>65.0</td>\n",
       "      <td>648</td>\n",
       "      <td>0</td>\n",
       "      <td>0</td>\n",
       "      <td>54478</td>\n",
       "      <td>184</td>\n",
       "      <td>83.0</td>\n",
       "      <td>7.1</td>\n",
       "    </tr>\n",
       "    <tr>\n",
       "      <th>675</th>\n",
       "      <td>Ruby in Paradise</td>\n",
       "      <td>1993</td>\n",
       "      <td>Drama|Romance</td>\n",
       "      <td>English</td>\n",
       "      <td>USA</td>\n",
       "      <td>R</td>\n",
       "      <td>114</td>\n",
       "      <td>1.85</td>\n",
       "      <td>800000.0</td>\n",
       "      <td>1001437.0</td>\n",
       "      <td>...</td>\n",
       "      <td>159</td>\n",
       "      <td>143</td>\n",
       "      <td>86.0</td>\n",
       "      <td>423</td>\n",
       "      <td>81</td>\n",
       "      <td>1</td>\n",
       "      <td>2039</td>\n",
       "      <td>28</td>\n",
       "      <td>11.0</td>\n",
       "      <td>7.2</td>\n",
       "    </tr>\n",
       "  </tbody>\n",
       "</table>\n",
       "<p>991 rows × 25 columns</p>\n",
       "</div>"
      ],
      "text/plain": [
       "                                           Title  Year  \\\n",
       "1027                                    Titanic   1997   \n",
       "1281  Star Wars: Episode I - The Phantom Menace   1999   \n",
       "226          Star Wars: Episode IV - A New Hope   1977   \n",
       "328                  E.T. the Extra-Terrestrial   1982   \n",
       "737                               The Lion King   1994   \n",
       "...                                          ...   ...   \n",
       "629                               Light Sleeper   1992   \n",
       "824                              Blood and Wine   1996   \n",
       "1161                            Velvet Goldmine   1998   \n",
       "826                               Bottle Rocket   1996   \n",
       "675                            Ruby in Paradise   1993   \n",
       "\n",
       "                                        Genres Language Country  \\\n",
       "1027                             Drama|Romance  English     USA   \n",
       "1281           Action|Adventure|Fantasy|Sci-Fi  English     USA   \n",
       "226            Action|Adventure|Fantasy|Sci-Fi  English     USA   \n",
       "328                              Family|Sci-Fi  English     USA   \n",
       "737   Adventure|Animation|Drama|Family|Musical  English     USA   \n",
       "...                                        ...      ...     ...   \n",
       "629                                Crime|Drama  English     USA   \n",
       "824                       Crime|Drama|Thriller  English     USA   \n",
       "1161                               Drama|Music  English      UK   \n",
       "826                         Comedy|Crime|Drama  English     USA   \n",
       "675                              Drama|Romance  English     USA   \n",
       "\n",
       "     Content Rating  Duration  Aspect Ratio       Budget  Gross Earnings  ...  \\\n",
       "1027          PG-13       194          2.35  200000000.0     658672302.0  ...   \n",
       "1281             PG       136          2.35  115000000.0     474544677.0  ...   \n",
       "226              PG       125          2.35   11000000.0     460935665.0  ...   \n",
       "328              PG       120          1.85   10500000.0     434949459.0  ...   \n",
       "737               G        73          1.66   45000000.0     422783777.0  ...   \n",
       "...             ...       ...           ...          ...             ...  ...   \n",
       "629               R       103          1.85    5000000.0       1100000.0  ...   \n",
       "824               R       101          1.85   22000000.0       1075288.0  ...   \n",
       "1161              R       124          1.85          NaN       1043487.0  ...   \n",
       "826               R        91          1.85    7000000.0       1040879.0  ...   \n",
       "675               R       114          1.85     800000.0       1001437.0  ...   \n",
       "\n",
       "     Facebook Likes - Actor 1 Facebook Likes - Actor 2  \\\n",
       "1027                    29000                    14000   \n",
       "1281                    20000                    14000   \n",
       "226                     11000                     1000   \n",
       "328                       861                      725   \n",
       "737                      2000                      886   \n",
       "...                       ...                      ...   \n",
       "629                       722                      280   \n",
       "824                      1000                      854   \n",
       "1161                    23000                      776   \n",
       "826                       387                       96   \n",
       "675                       159                      143   \n",
       "\n",
       "     Facebook Likes - Actor 3 Facebook Likes - cast Total  \\\n",
       "1027                    794.0                       45223   \n",
       "1281                   1000.0                       37723   \n",
       "226                     504.0                       13485   \n",
       "328                     548.0                        2811   \n",
       "737                     847.0                        6458   \n",
       "...                       ...                         ...   \n",
       "629                     145.0                        1201   \n",
       "824                     223.0                        2228   \n",
       "1161                    277.0                       24102   \n",
       "826                      65.0                         648   \n",
       "675                      86.0                         423   \n",
       "\n",
       "      Facebook likes - Movie  Facenumber in posters  User Votes  \\\n",
       "1027                   26000                      0      793059   \n",
       "1281                   13000                      1      534658   \n",
       "226                    33000                      1      911097   \n",
       "328                    34000                      0      281842   \n",
       "737                    17000                      0      644348   \n",
       "...                      ...                    ...         ...   \n",
       "629                      247                      0        3665   \n",
       "824                      145                      3        7772   \n",
       "1161                       0                      3       27766   \n",
       "826                        0                      0       54478   \n",
       "675                       81                      1        2039   \n",
       "\n",
       "      Reviews by Users  Reviews by Crtiics  IMDB Score  \n",
       "1027              2528               315.0         7.7  \n",
       "1281              3597               320.0         6.5  \n",
       "226               1470               282.0         8.7  \n",
       "328                515               215.0         7.9  \n",
       "737                656               186.0         8.5  \n",
       "...                ...                 ...         ...  \n",
       "629                 39                19.0         6.8  \n",
       "824                 55                42.0         6.1  \n",
       "1161               314               103.0         7.0  \n",
       "826                184                83.0         7.1  \n",
       "675                 28                11.0         7.2  \n",
       "\n",
       "[991 rows x 25 columns]"
      ]
     },
     "execution_count": 19,
     "metadata": {},
     "output_type": "execute_result"
    }
   ],
   "source": [
    "filtered_byEarnings"
   ]
  },
  {
   "cell_type": "markdown",
   "id": "0f975a13-9022-4276-a926-5fcdaf37570a",
   "metadata": {},
   "source": [
    "There are many other functions that we will explore later on the course TDs. For now, if you are interested you can follow [this 10-minutes tutorial](https://pandas.pydata.org/docs/user_guide/10min.html) of pandas. Specifically about handling Excel files with Pandas and Python, there is good resource [here](https://www.dataquest.io/blog/excel-and-pandas/) and many more in internet."
   ]
  },
  {
   "cell_type": "markdown",
   "id": "7e7fb744-3be1-4176-bd8e-5bb20f7e0847",
   "metadata": {},
   "source": [
    "### **Seaborn and Pandas**  \n",
    "\n",
    "Seaborn is a library for making statistical graphics in Python. Seaborn tackles this not by reinventing the wheel but by improving it. It is built on top of Matplotlib and provides a high level API that makes \"a well-defined set of hard things easy\" (as stated in the docs), amongst other things by making that its methods work greatly by passing a minimal set of arguments. The eye candy comes from the built-in themes, the possibility to build custom attractive color palettes, and the witty way they're utilized to display statistical information.   \n",
    "\n",
    "Seaborn is part of the PyData stack, and accepts Pandas' data structures as inputs in its API. From our experience, they complement each other really well, and are worth learning together. \n",
    "\n",
    "Despite Seaborn is very useful and helps presenting data in a good looking way, it is not the best for fitting distributions to data or to get other statistical information. For that purpose we will use another package called \"Scipy.Stats\".\n"
   ]
  },
  {
   "cell_type": "markdown",
   "id": "e79d698a-5ba1-4b98-92ee-9d5152265eb2",
   "metadata": {},
   "source": [
    "## **2.6 Statistical analysis with Scipy**"
   ]
  },
  {
   "cell_type": "markdown",
   "id": "9e35a192-6e6c-4255-a32d-3d61b0157b7c",
   "metadata": {},
   "source": [
    "**What is SciPy?**  \n",
    "\n",
    "SciPy is a scientific computation library (SciPy stands for Scientific Python) that uses NumPy underneath. It provides more utility functions for optimization, stats and signal processing.\n",
    "\n",
    "For this course, we will focus our attention on the use of [SciPy.stats](https://docs.scipy.org/doc/scipy/reference/stats.html). We will see two topics: how to plot distributions with given parameters, and how to fit distributions to data.\n"
   ]
  },
  {
   "cell_type": "markdown",
   "id": "9b6b7a3b-5666-43f2-949e-8f65faf03294",
   "metadata": {},
   "source": [
    "### **Probability distributions**\n",
    "\n",
    "Scipy has a two classes: one for [continuous distributions](https://docs.scipy.org/doc/scipy/reference/generated/scipy.stats.rv_continuous.html#scipy.stats.rv_continuous), and one for [discrete distributions](https://docs.scipy.org/doc/scipy/reference/generated/scipy.stats.rv_discrete.html#scipy.stats.rv_discrete). These two classes are the base for each specific distribution (e.g., normal, Gumbel, Bernoulli, Binomial, etc.).\n",
    "\n",
    "Some methods we will use coming from these classes are:  \n",
    "- `rvs`: Random variates of given type.\n",
    "- `pdf`: Probability density function at x of the given RV.\n",
    "- `cdf`: Cumulative distribution function of the given RV.\n",
    "- `fit`: Return estimates of shape (if applicable), location, and scale parameters from data.\n",
    "\n",
    "Here below we will see examples of each one applied to the normal distribution.\n",
    "\\begin{equation}\n",
    "F(x)=P(X\\leq x)=\\frac{1}{\\sigma\\sqrt{2\\pi}} e^{-\\frac{1}{2}\\left(\\frac{x - \\mu}{\\sigma}\\right)^2}\n",
    "\\end{equation}"
   ]
  },
  {
   "cell_type": "markdown",
   "id": "9d674b3f-e22a-44d2-b756-8382f144695d",
   "metadata": {},
   "source": [
    "---"
   ]
  },
  {
   "cell_type": "markdown",
   "id": "10419674-f660-4b51-88cc-4ee48b3176ac",
   "metadata": {},
   "source": [
    "#### **- rvs**\n",
    "The norm.ppf() function generates an array containing specified number of random numbers of the given normal distribution. In the example below, a histogram is plotted to visualize the result."
   ]
  },
  {
   "cell_type": "code",
   "execution_count": 20,
   "id": "fbed62c0-8bd8-48cc-a2fa-9cc3928fdf05",
   "metadata": {},
   "outputs": [
    {
     "data": {
      "image/png": "[encoded data removed]",
      "text/plain": [
       "<Figure size 640x480 with 1 Axes>"
      ]
     },
     "metadata": {},
     "output_type": "display_data"
    }
   ],
   "source": [
    "from scipy.stats import norm\n",
    "import matplotlib.pyplot as plt\n",
    "import numpy as np\n",
    "\n",
    "# fixing the seed for reproducibility\n",
    "# of the result\n",
    "np.random.seed(10)\n",
    "\n",
    "# creating a vector containing 10000\n",
    "# normally distributed random numbers\n",
    "y_rvs = norm.rvs(0, 1, 10000)\n",
    "\n",
    "# creating bin\n",
    "bin = np.arange(-4, 4, 0.1)\n",
    "\n",
    "plt.hist(y_rvs, bins=bin, edgecolor=\"blue\")\n",
    "plt.show()"
   ]
  },
  {
   "cell_type": "markdown",
   "id": "dcf9fa21-fdc9-42ca-8a81-bacec0e0324b",
   "metadata": {},
   "source": [
    "#### **- pdf**\n",
    "The `norm.pdf()` function measures probability density function (pdf) of the distribution."
   ]
  },
  {
   "cell_type": "code",
   "execution_count": 21,
   "id": "a2da646a-7af8-48e1-8b2f-c098d079dc72",
   "metadata": {},
   "outputs": [
    {
     "data": {
      "image/png": "[encoded data removed]",
      "text/plain": [
       "<Figure size 640x480 with 1 Axes>"
      ]
     },
     "metadata": {},
     "output_type": "display_data"
    }
   ],
   "source": [
    "# creating an array of values between\n",
    "# -10 to 10 with a difference of 0.1\n",
    "x = np.arange(-10, 10, 0.1)\n",
    "\n",
    "y = norm.pdf(x, 0, 2)\n",
    "\n",
    "plt.plot(x, y)\n",
    "plt.show()"
   ]
  },
  {
   "cell_type": "markdown",
   "id": "89457d46-f1d9-439d-ba1c-7e31827838d1",
   "metadata": {},
   "source": [
    "#### **- cdf**\n",
    "\n",
    "The `norm.cdf()` function returns cumulative distribution function (cdf) of the distribution."
   ]
  },
  {
   "cell_type": "code",
   "execution_count": 22,
   "id": "1f7066fb-9004-475f-884f-dde977eaf877",
   "metadata": {},
   "outputs": [
    {
     "data": {
      "image/png": "[encoded data removed]",
      "text/plain": [
       "<Figure size 640x480 with 1 Axes>"
      ]
     },
     "metadata": {},
     "output_type": "display_data"
    }
   ],
   "source": [
    "# creating an array of values between\n",
    "# -10 to 10 with a difference of 0.1\n",
    "x = np.arange(-10, 10, 0.1)\n",
    "\n",
    "y = norm.cdf(x, 0, 2)\n",
    "\n",
    "plt.plot(x, y)\n",
    "plt.show()"
   ]
  },
  {
   "cell_type": "markdown",
   "id": "1332eb63-32fd-42d0-9ecf-d49a1629e945",
   "metadata": {},
   "source": [
    "For using the `fit` method, we will produce 10'000 values of a Normal distribution and then try to recover the parameters of this distribution by using `fit`."
   ]
  },
  {
   "cell_type": "code",
   "execution_count": 2,
   "id": "22778b3e-fa74-456a-a8e9-08e12764c896",
   "metadata": {},
   "outputs": [
    {
     "data": {
      "image/png": "[encoded data removed]",
      "text/plain": [
       "<Figure size 640x480 with 1 Axes>"
      ]
     },
     "metadata": {},
     "output_type": "display_data"
    }
   ],
   "source": [
    "from scipy.stats import norm\n",
    "import matplotlib.pyplot as plt\n",
    "import numpy as np\n",
    "import seaborn as sns\n",
    "plt.style.use('seaborn-pastel')\n",
    "# Fixing the seed for reproducibility\n",
    "# of the result\n",
    "np.random.seed(10)\n",
    "num_values = 10000\n",
    "\n",
    "# Creating a vector containing 10000\n",
    "# normally distributed random numbers\n",
    "# with mean 0 and standard deviation 1.\n",
    "mu = 0\n",
    "std = 1\n",
    "# We use the random value sampler to get 10'000 values.\n",
    "# We specify the location and scale parameters\n",
    "# as the mean (mu) and standard deviation(std).\n",
    "y_rvs = norm.rvs(loc=mu, scale=std, size=num_values)\n",
    "\n",
    "# We use the method `fit` on the recently created values/\n",
    "normal_params = norm.fit(y_rvs)\n",
    "\n",
    "# We specify the bin values for the histogram\n",
    "bin = np.arange(-4, 4, 0.1)\n",
    "\n",
    "# We create a vector of values for plotting the fitted distribution.\n",
    "# Also with 10'000 values.\n",
    "sample = np.linspace(\n",
    "    -4, 4, num=num_values, endpoint=True, retstep=False, dtype=None, axis=0\n",
    ")\n",
    "\n",
    "# Histogram\n",
    "ax = sns.histplot(y_rvs, bins=bin, stat=\"density\", kde=False)\n",
    "\n",
    "# Fitted curve.\n",
    "ax.plot(\n",
    "    sample,\n",
    "    norm.pdf(sample, normal_params[0], normal_params[1]),\n",
    "    color=\"red\",\n",
    "    label=\"Normal\",\n",
    ")\n",
    "plt.savefig(\"normal.jpg\", dpi=600)\n",
    "plt.show()\n"
   ]
  },
  {
   "cell_type": "code",
   "execution_count": 24,
   "id": "78d24d0d-e4f5-4341-800b-1d16d5a3d33f",
   "metadata": {},
   "outputs": [
    {
     "name": "stdout",
     "output_type": "stream",
     "text": [
      "The number of parameters obtained when fitting the distribution is: 2\n",
      "The values estimated for the mean is 0.005, and for the standard deviation is 0.990.\n"
     ]
    }
   ],
   "source": [
    "# We print the parameters obtained with\n",
    "print(\n",
    "    \"The number of parameters obtained when fitting the distribution is: \"\n",
    "    + str(len(normal_params))\n",
    ")\n",
    "print(\n",
    "    \"The values estimated for the mean is {:.3f}, and for the standard deviation is {:.3f}.\".format(\n",
    "        normal_params[0], normal_params[1]\n",
    "    )\n",
    ")"
   ]
  },
  {
   "cell_type": "markdown",
   "id": "d6bedc2a-ea8c-4ca2-b4fb-9c8bcf119784",
   "metadata": {},
   "source": [
    "We see that both values are close to the given parameters. If we increase the number of values to sample from the distribution from 10'000 to 1 million, both values will get closer to the real numbers. "
   ]
  },
  {
   "cell_type": "markdown",
   "id": "4865c2fb-02f7-4e8f-9f3c-945c5dbe1fa5",
   "metadata": {},
   "source": [
    "---"
   ]
  },
  {
   "cell_type": "markdown",
   "id": "47320a2c-024a-40db-9164-40fade717252",
   "metadata": {},
   "source": [
    "# EXERCISES"
   ]
  },
  {
   "cell_type": "markdown",
   "id": "b94b1e38-6c20-44e0-845a-3ac6317ea26e",
   "metadata": {},
   "source": [
    "---"
   ]
  },
  {
   "cell_type": "markdown",
   "id": "a21fa248-a056-4cc6-8502-e0902cee565b",
   "metadata": {},
   "source": [
    "## Data series treatment\n",
    "\n",
    "### Rain at Davos\n",
    "\n",
    "Use the data of rain at Davos\n",
    "1. Take a look to the file.\n",
    "2. Load the data.  \n",
    "\n",
    "**Solution:**  "
   ]
  },
  {
   "cell_type": "code",
   "execution_count": 25,
   "id": "7d2a42b7-44d0-4951-a89d-76f6c6e2d4bc",
   "metadata": {},
   "outputs": [
    {
     "data": {
      "text/html": [
       "<div>\n",
       "<style scoped>\n",
       "    .dataframe tbody tr th:only-of-type {\n",
       "        vertical-align: middle;\n",
       "    }\n",
       "\n",
       "    .dataframe tbody tr th {\n",
       "        vertical-align: top;\n",
       "    }\n",
       "\n",
       "    .dataframe thead th {\n",
       "        text-align: right;\n",
       "    }\n",
       "</style>\n",
       "<table border=\"1\" class=\"dataframe\">\n",
       "  <thead>\n",
       "    <tr style=\"text-align: right;\">\n",
       "      <th></th>\n",
       "      <th>STA</th>\n",
       "      <th>JAHR</th>\n",
       "      <th>MO</th>\n",
       "      <th>TG</th>\n",
       "      <th>HH</th>\n",
       "      <th>MM</th>\n",
       "      <th>PP</th>\n",
       "    </tr>\n",
       "  </thead>\n",
       "  <tbody>\n",
       "    <tr>\n",
       "      <th>0</th>\n",
       "      <td>28</td>\n",
       "      <td>1986</td>\n",
       "      <td>9</td>\n",
       "      <td>2</td>\n",
       "      <td>0</td>\n",
       "      <td>0</td>\n",
       "      <td>0.0</td>\n",
       "    </tr>\n",
       "    <tr>\n",
       "      <th>1</th>\n",
       "      <td>28</td>\n",
       "      <td>1986</td>\n",
       "      <td>9</td>\n",
       "      <td>3</td>\n",
       "      <td>0</td>\n",
       "      <td>0</td>\n",
       "      <td>3.7</td>\n",
       "    </tr>\n",
       "    <tr>\n",
       "      <th>2</th>\n",
       "      <td>28</td>\n",
       "      <td>1986</td>\n",
       "      <td>9</td>\n",
       "      <td>4</td>\n",
       "      <td>0</td>\n",
       "      <td>0</td>\n",
       "      <td>0.1</td>\n",
       "    </tr>\n",
       "    <tr>\n",
       "      <th>3</th>\n",
       "      <td>28</td>\n",
       "      <td>1986</td>\n",
       "      <td>9</td>\n",
       "      <td>5</td>\n",
       "      <td>0</td>\n",
       "      <td>0</td>\n",
       "      <td>0.0</td>\n",
       "    </tr>\n",
       "    <tr>\n",
       "      <th>4</th>\n",
       "      <td>28</td>\n",
       "      <td>1986</td>\n",
       "      <td>9</td>\n",
       "      <td>6</td>\n",
       "      <td>0</td>\n",
       "      <td>0</td>\n",
       "      <td>0.0</td>\n",
       "    </tr>\n",
       "    <tr>\n",
       "      <th>...</th>\n",
       "      <td>...</td>\n",
       "      <td>...</td>\n",
       "      <td>...</td>\n",
       "      <td>...</td>\n",
       "      <td>...</td>\n",
       "      <td>...</td>\n",
       "      <td>...</td>\n",
       "    </tr>\n",
       "    <tr>\n",
       "      <th>7300</th>\n",
       "      <td>28</td>\n",
       "      <td>2006</td>\n",
       "      <td>8</td>\n",
       "      <td>28</td>\n",
       "      <td>0</td>\n",
       "      <td>0</td>\n",
       "      <td>19.5</td>\n",
       "    </tr>\n",
       "    <tr>\n",
       "      <th>7301</th>\n",
       "      <td>28</td>\n",
       "      <td>2006</td>\n",
       "      <td>8</td>\n",
       "      <td>29</td>\n",
       "      <td>0</td>\n",
       "      <td>0</td>\n",
       "      <td>13.6</td>\n",
       "    </tr>\n",
       "    <tr>\n",
       "      <th>7302</th>\n",
       "      <td>28</td>\n",
       "      <td>2006</td>\n",
       "      <td>8</td>\n",
       "      <td>30</td>\n",
       "      <td>0</td>\n",
       "      <td>0</td>\n",
       "      <td>4.2</td>\n",
       "    </tr>\n",
       "    <tr>\n",
       "      <th>7303</th>\n",
       "      <td>28</td>\n",
       "      <td>2006</td>\n",
       "      <td>8</td>\n",
       "      <td>31</td>\n",
       "      <td>0</td>\n",
       "      <td>0</td>\n",
       "      <td>0.1</td>\n",
       "    </tr>\n",
       "    <tr>\n",
       "      <th>7304</th>\n",
       "      <td>28</td>\n",
       "      <td>2006</td>\n",
       "      <td>9</td>\n",
       "      <td>1</td>\n",
       "      <td>0</td>\n",
       "      <td>0</td>\n",
       "      <td>0.0</td>\n",
       "    </tr>\n",
       "  </tbody>\n",
       "</table>\n",
       "<p>7305 rows × 7 columns</p>\n",
       "</div>"
      ],
      "text/plain": [
       "      STA  JAHR  MO  TG  HH  MM    PP\n",
       "0      28  1986   9   2   0   0   0.0\n",
       "1      28  1986   9   3   0   0   3.7\n",
       "2      28  1986   9   4   0   0   0.1\n",
       "3      28  1986   9   5   0   0   0.0\n",
       "4      28  1986   9   6   0   0   0.0\n",
       "...   ...   ...  ..  ..  ..  ..   ...\n",
       "7300   28  2006   8  28   0   0  19.5\n",
       "7301   28  2006   8  29   0   0  13.6\n",
       "7302   28  2006   8  30   0   0   4.2\n",
       "7303   28  2006   8  31   0   0   0.1\n",
       "7304   28  2006   9   1   0   0   0.0\n",
       "\n",
       "[7305 rows x 7 columns]"
      ]
     },
     "execution_count": 25,
     "metadata": {},
     "output_type": "execute_result"
    }
   ],
   "source": [
    "import matplotlib.pyplot as plt\n",
    "import missingno as msno\n",
    "import numpy as np\n",
    "import pandas as pd\n",
    "import seaborn as sns\n",
    "from scipy import stats as st\n",
    "from scipy.stats import norm, skew\n",
    "from sklearn.datasets import fetch_openml\n",
    "from tqdm import tqdm\n",
    "\n",
    "plt.style.use(\"seaborn-pastel\")\n",
    "\n",
    "df01 = pd.read_csv(\"data/pluies_davos.csv\", delimiter=\" \")\n",
    "df01"
   ]
  },
  {
   "cell_type": "markdown",
   "id": "3a50749d-f033-4f79-9fbf-6b1c891f64e7",
   "metadata": {},
   "source": [
    "3. The 7th column has the precipitation data by day.  \n",
    "**Solution:**  "
   ]
  },
  {
   "cell_type": "code",
   "execution_count": 26,
   "id": "9eedf55c-661a-402a-a6eb-aea79b31b6b2",
   "metadata": {},
   "outputs": [
    {
     "data": {
      "text/plain": [
       "0    0.0\n",
       "1    3.7\n",
       "2    0.1\n",
       "3    0.0\n",
       "4    0.0\n",
       "Name: PP, dtype: float64"
      ]
     },
     "execution_count": 26,
     "metadata": {},
     "output_type": "execute_result"
    }
   ],
   "source": [
    "pp = df01[\"PP\"]\n",
    "pp.head(5)"
   ]
  },
  {
   "cell_type": "markdown",
   "id": "74f40743-3b8c-4c93-acaf-8f60301838c0",
   "metadata": {},
   "source": [
    "4. Visualize the data with a scatter plot.  \n",
    "**Solution** "
   ]
  },
  {
   "cell_type": "code",
   "execution_count": 27,
   "id": "a3349a7e-a24b-4f47-9012-ffb562cf8e76",
   "metadata": {},
   "outputs": [
    {
     "data": {
      "image/png": "[encoded data removed]",
      "text/plain": [
       "<Figure size 640x480 with 1 Axes>"
      ]
     },
     "metadata": {},
     "output_type": "display_data"
    }
   ],
   "source": [
    "plt.scatter(df01.index, df01[\"PP\"], s=1)\n",
    "plt.xlabel(\"Measurement\")\n",
    "plt.ylabel(\"Rain [mm/day]\")\n",
    "plt.show()"
   ]
  },
  {
   "cell_type": "markdown",
   "id": "8e069519-09c8-47dd-8011-f482dc1288e3",
   "metadata": {},
   "source": [
    "5. Plot a histogram and determine the Empirical cumulative distribution function _(fonction de répartition)_. [`ECDF in Scipy Stats`](https://www.statsmodels.org/stable/generated/statsmodels.distributions.empirical_distribution.ECDF.html)  \n",
    "**Solution:**  "
   ]
  },
  {
   "cell_type": "code",
   "execution_count": 28,
   "id": "bf944697-e2ad-4dee-a808-3d0f5a950ba5",
   "metadata": {},
   "outputs": [
    {
     "data": {
      "image/png": "[encoded data removed]",
      "text/plain": [
       "<Figure size 640x480 with 1 Axes>"
      ]
     },
     "metadata": {},
     "output_type": "display_data"
    },
    {
     "data": {
      "image/png": "[encoded data removed]",
      "text/plain": [
       "<Figure size 640x480 with 1 Axes>"
      ]
     },
     "metadata": {},
     "output_type": "display_data"
    }
   ],
   "source": [
    "from statsmodels.distributions.empirical_distribution import ECDF\n",
    "\n",
    "sns.histplot(df01[\"PP\"], bins=20, kde=False)\n",
    "plt.show()\n",
    "\n",
    "ecdf = ECDF(df01[\"PP\"])\n",
    "plt.plot(ecdf.x, ecdf.y)\n",
    "plt.xlabel(\"Sample\")\n",
    "plt.ylabel(\"Cumulative Probability\")\n",
    "plt.show()"
   ]
  },
  {
   "cell_type": "markdown",
   "id": "1f3b0061-f73f-4bab-9568-5ab23887fc2e",
   "metadata": {},
   "source": [
    "6. Plot a normalized histogram with kernel density estimation.  \n",
    "**Solution:**  "
   ]
  },
  {
   "cell_type": "code",
   "execution_count": 29,
   "id": "584ffa64-ea14-4177-80f7-96b811d16ed5",
   "metadata": {},
   "outputs": [
    {
     "data": {
      "image/png": "[encoded data removed]",
      "text/plain": [
       "<Figure size 640x480 with 1 Axes>"
      ]
     },
     "metadata": {},
     "output_type": "display_data"
    }
   ],
   "source": [
    "sns.histplot(\n",
    "    df01[\"PP\"],\n",
    "    bins=100,\n",
    "    stat=\"density\",\n",
    "    kde=True,\n",
    "    line_kws={\"color\": \"k\", \"lw\": 1, \"ls\": \"-\"},\n",
    ")\n",
    "# plt1 = df01[\"PP\"].plot.density()\n",
    "plt.xlim((-0.01, 90))\n",
    "plt.show()"
   ]
  },
  {
   "cell_type": "markdown",
   "id": "7d717135-e28f-46a5-a62c-410f62bda267",
   "metadata": {},
   "source": [
    "7. Determine the frequency and the return period of a precipitation of more than $30$ mm, $50$ mm and $80$ mm.  \n",
    "**Solution:**  \n",
    "\n",
    "We first remember that the Return Period is the inverse of the Probability."
   ]
  },
  {
   "cell_type": "code",
   "execution_count": 30,
   "id": "0e47b2db-cedc-4d07-91ed-bbefc415cd6e",
   "metadata": {},
   "outputs": [
    {
     "name": "stdout",
     "output_type": "stream",
     "text": [
      "-The frequency for a rain of 30 mm is: \t\t84.00 times.\n",
      "*The return period for a rain of 30 mm is: \t0.24 years.\n",
      "\n",
      "-The frequency for a rain of 50 mm is: \t\t13.00 times.\n",
      "*The return period for a rain of 50 mm is: \t1.54 years.\n",
      "\n",
      "-The frequency for a rain of 80 mm is: \t\t3.00 times.\n",
      "*The return period for a rain of 80 mm is: \t6.67 years.\n",
      "\n"
     ]
    }
   ],
   "source": [
    "precipitations = [30, 50, 80]\n",
    "\n",
    "for pp_lim in precipitations:\n",
    "    freq_pp = df01[df01[\"PP\"] > pp_lim].count()[\"PP\"]\n",
    "    prob_rel = freq_pp / df01.shape[0]\n",
    "    # Return period in days\n",
    "    RP_days = 1 / prob_rel\n",
    "    # Return period in years\n",
    "    RP_years = RP_days / 365\n",
    "    print(\n",
    "        \"-The frequency for a rain of \"\n",
    "        + str(pp_lim)\n",
    "        + \" mm is: \\t\\t\"\n",
    "        + \"{:.2f}\".format(freq_pp)\n",
    "        + \" times.\"\n",
    "    )\n",
    "    print(\n",
    "        \"*The return period for a rain of \"\n",
    "        + str(pp_lim)\n",
    "        + \" mm is: \\t\"\n",
    "        + \"{:.2f}\".format(RP_years)\n",
    "        + \" years.\\n\"\n",
    "    )"
   ]
  },
  {
   "cell_type": "markdown",
   "id": "a7047b6e-70c1-4f8d-baf9-dbfeb10f5eaa",
   "metadata": {},
   "source": [
    "8. (Optional) Compute the annual mean. We will ensure that only complete years are taken into account.  \n",
    "\n",
    "> In hydrology we should speak of hydrological year, i.e. from October 1 to September 30, but for the sake of code time we will use the calendar year here.  \n",
    "\n",
    "**Solution:**  "
   ]
  },
  {
   "cell_type": "code",
   "execution_count": null,
   "id": "d9addd30-de03-4744-aed4-94bf18873bb8",
   "metadata": {},
   "outputs": [],
   "source": []
  },
  {
   "cell_type": "markdown",
   "id": "178a98db-9e60-418a-80d4-a91af6cec007",
   "metadata": {},
   "source": [
    "### Snowfall in Chamonix\n",
    "\n",
    "Using Chamonix snowfall data, determine:\n",
    "1. The annual snowfall. Plot a the time series of snowfall per day and year. [`groupby, sum`](https://pandas.pydata.org/docs/reference/api/pandas.DataFrame.groupby.html)  \n",
    "**Solution:**  "
   ]
  },
  {
   "cell_type": "code",
   "execution_count": 31,
   "id": "7b1a1dc7-4ef2-49f5-b7a1-1b05f981814f",
   "metadata": {},
   "outputs": [
    {
     "data": {
      "image/png": "[encoded data removed]",
      "text/plain": [
       "<Figure size 640x480 with 1 Axes>"
      ]
     },
     "metadata": {},
     "output_type": "display_data"
    },
    {
     "data": {
      "image/png": "[encoded data removed]",
      "text/plain": [
       "<Figure size 640x480 with 1 Axes>"
      ]
     },
     "metadata": {},
     "output_type": "display_data"
    }
   ],
   "source": [
    "df02 = pd.read_csv(\"data/neige_chamonix.txt\", delimiter=\" \")\n",
    "\n",
    "# We plot the series\n",
    "ax = df02.plot.scatter(x=\"Year\", y=\"Snow\")\n",
    "plt.xlabel(\"Year\")\n",
    "plt.ylabel(\"Snowfall [cm/day]\")\n",
    "plt.show()\n",
    "\n",
    "# And group by year, by summing.\n",
    "SF_byYear = df02[df02[\"Year\"] < 2002].groupby([\"Year\"]).sum()[\"Snow\"]\n",
    "\n",
    "# And plot the time series of the sum per year\n",
    "ax2 = df02.groupby([\"Year\"]).sum()[\"Snow\"].plot()\n",
    "plt.show()"
   ]
  },
  {
   "cell_type": "code",
   "execution_count": 32,
   "id": "3c0fa7e3-8f31-4685-ab98-57a6e99fb6d0",
   "metadata": {},
   "outputs": [
    {
     "data": {
      "text/plain": [
       "Year\n",
       "1959    391\n",
       "1960    257\n",
       "1961    249\n",
       "1962    485\n",
       "1963    286\n",
       "Name: Snow, dtype: int64"
      ]
     },
     "execution_count": 32,
     "metadata": {},
     "output_type": "execute_result"
    }
   ],
   "source": [
    "# Here the first 5 years\n",
    "SF_byYear.head(5)"
   ]
  },
  {
   "cell_type": "markdown",
   "id": "5dcfe59f-d271-43c5-b5d4-faf5ba799ce1",
   "metadata": {},
   "source": [
    "2. The frequency and return time for a fall of more than $30$ cm. Pay attention to the definition given to return time, there are not 365 days of data per year.  \n",
    "**Solution:**  "
   ]
  },
  {
   "cell_type": "code",
   "execution_count": 33,
   "id": "2b48cb0d-329f-4098-a453-0649eab492d4",
   "metadata": {},
   "outputs": [
    {
     "name": "stdout",
     "output_type": "stream",
     "text": [
      "-The frequency of a snow fall over 30 cm is: 32\n"
     ]
    }
   ],
   "source": [
    "SF_freq = df02[df02[\"Snow\"] > 30].count()[\"Snow\"]\n",
    "print(\"-The frequency of a snow fall over 30 cm is: \" + str(SF_freq))"
   ]
  },
  {
   "cell_type": "code",
   "execution_count": 34,
   "id": "94fe7393-0ac2-4538-b392-13a111ef7079",
   "metadata": {},
   "outputs": [],
   "source": [
    "# We get the number of days in total\n",
    "total_days = df02.groupby([\"Year\"]).count()[\"Day\"].sum()\n",
    "# The relative frequency considering the days with data\n",
    "SF_rel_freq = SF_freq / total_days\n",
    "# The return period in days\n",
    "RP_days = 1 / SF_rel_freq\n",
    "# Return period in years\n",
    "RP_years = RP_days / 365"
   ]
  },
  {
   "cell_type": "markdown",
   "id": "f7626119-109f-429c-90df-c638935c9716",
   "metadata": {},
   "source": [
    "3. Make a diagram with the return time $T$ as a function of the snowfall. `[ECDF]`  \n",
    "**Solution:**  "
   ]
  },
  {
   "cell_type": "code",
   "execution_count": 35,
   "id": "ae57ebb1-2a8e-4066-b547-13137061671a",
   "metadata": {},
   "outputs": [
    {
     "name": "stderr",
     "output_type": "stream",
     "text": [
      "/tmp/ipykernel_82/2583545293.py:10: RuntimeWarning: divide by zero encountered in true_divide\n",
      "  T = 1 / Fr\n"
     ]
    },
    {
     "data": {
      "image/png": "[encoded data removed]",
      "text/plain": [
       "<Figure size 640x480 with 1 Axes>"
      ]
     },
     "metadata": {},
     "output_type": "display_data"
    }
   ],
   "source": [
    "\"\"\"\n",
    "Les mesures de neige ne sont faites que pendant l'hiver de octobre à  avril.\n",
    "Il faut donc faire l'hypothèse que le reste de l'année les chutes de\n",
    "neige valent 0 pour calculer le temps de retour.\n",
    "\"\"\"\n",
    "\n",
    "ecdf = ECDF(df02[\"Snow\"])\n",
    "\n",
    "Fr = 1 - ecdf.y\n",
    "T = 1 / Fr\n",
    "\n",
    "\"\"\" convertit le temps de retour en hivers, ce qui est la \n",
    "même chose que des années puisque il ne neige pas l'été il \n",
    "y a 212 jours d'hivers par an (oct-avr)\"\"\"\n",
    "T = T / 212\n",
    "\n",
    "plt.plot(ecdf.x, T, color=\"blue\", lw=1, ls=\"--\", marker=\"o\", ms=2)\n",
    "plt.xlabel(\"Snow fall [cm/day]\")\n",
    "plt.ylabel(\"Return period [years]\")\n",
    "plt.show()"
   ]
  },
  {
   "cell_type": "markdown",
   "id": "b0ecb1da-5a89-4140-a586-21ebe1255fc1",
   "metadata": {},
   "source": [
    "### Data stationarity  \n",
    "\n",
    "For daily rainfall and snowfall as well as for their annual accumulations, determine the stationary character of the data series.\n",
    "\n",
    "1. Set a any threshold $S$ and count the number $N(i)$ of events exceeding this threshold among the first $i$ values of your time series. [`cumsum`](https://numpy.org/doc/stable/reference/generated/numpy.cumsum.html)   \n",
    "\n",
    "**Solution:**  "
   ]
  },
  {
   "cell_type": "code",
   "execution_count": 36,
   "id": "9ed1c05f-f6dd-47a2-bade-7e8c2977cbc8",
   "metadata": {},
   "outputs": [],
   "source": [
    "S = 1\n",
    "N01 = np.cumsum(df01[df01[\"PP\"] > S][\"PP\"])\n",
    "N02 = np.cumsum(df02[df02[\"Snow\"] > S][\"Snow\"])"
   ]
  },
  {
   "cell_type": "markdown",
   "id": "db02e4f4-bfd8-4517-89ff-0900c0f170d3",
   "metadata": {},
   "source": [
    "2. Plot this function $N(i)$ and compare it with a straight line.  \n",
    "**Solution:**  "
   ]
  },
  {
   "cell_type": "code",
   "execution_count": 37,
   "id": "95a2f640-eef9-4e4e-b467-3b97e9fee810",
   "metadata": {},
   "outputs": [
    {
     "data": {
      "image/png": "[encoded data removed]",
      "text/plain": [
       "<Figure size 640x480 with 1 Axes>"
      ]
     },
     "metadata": {},
     "output_type": "display_data"
    },
    {
     "data": {
      "image/png": "[encoded data removed]",
      "text/plain": [
       "<Figure size 640x480 with 1 Axes>"
      ]
     },
     "metadata": {},
     "output_type": "display_data"
    }
   ],
   "source": [
    "N01.plot(color=\"blue\")\n",
    "plt.plot([0, df01[\"PP\"].shape[0]], [0, N01.max()], color=\"red\")\n",
    "plt.xlabel(\"Numero i de la mesure\")\n",
    "plt.ylabel(\"Cumulative number of samples over \" + str(S) + \" mm\")\n",
    "plt.title(\"Rain at Davos\")\n",
    "plt.show()\n",
    "\n",
    "N02.plot(color=\"blue\")\n",
    "plt.plot([0, df02[\"Snow\"].shape[0]], [0, N02.max()], color=\"red\")\n",
    "plt.title(\"Snow at Chamonix\")\n",
    "plt.xlabel(\"Numero i de la mesure\")\n",
    "plt.ylabel(\"Cumulative number of samples over \" + str(S) + \" mm\")\n",
    "plt.show()"
   ]
  },
  {
   "cell_type": "markdown",
   "id": "bcb93e7d-cd03-44a9-b082-ebd504da8b89",
   "metadata": {},
   "source": [
    "3. What do you conclude about the stationary character of these data?  \n",
    "**Solution:**  "
   ]
  },
  {
   "cell_type": "markdown",
   "id": "b8092fd0-b708-436e-85b6-e0623eec9af2",
   "metadata": {},
   "source": [
    "The data seems to be stationary for Davos but not for Chamonix."
   ]
  },
  {
   "cell_type": "code",
   "execution_count": null,
   "id": "169791bc-3899-4138-bac0-d71918af0743",
   "metadata": {},
   "outputs": [],
   "source": []
  }
 ],
 "metadata": {
  "kernelspec": {
   "display_name": "Python",
   "language": "python",
   "name": "python3"
  },
  "language_info": {
   "codemirror_mode": {
    "name": "ipython",
    "version": 3
   },
   "file_extension": ".py",
   "mimetype": "text/x-python",
   "name": "python",
   "nbconvert_exporter": "python",
   "pygments_lexer": "ipython3",
   "version": "3.8.10"
  }
 },
 "nbformat": 4,
 "nbformat_minor": 5
}
