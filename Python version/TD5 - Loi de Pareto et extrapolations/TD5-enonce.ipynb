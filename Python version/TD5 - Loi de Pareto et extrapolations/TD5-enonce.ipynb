{
 "cells": [
  {
   "cell_type": "markdown",
   "id": "3ff62347-1f72-46d4-b19b-371f28d85ba9",
   "metadata": {},
   "source": [
    "# **Séance 5 : Loi de Pareto et extrapolations**\n",
    "### **Professeur** : Christophe Ancey\n",
    "#### **Assistants** : \n",
    "- Yanan Chen\n",
    "- Sofi Farazande\n",
    "- Clemente Gotelli\n",
    "---"
   ]
  },
  {
   "cell_type": "markdown",
   "id": "0d8f9840-e943-4fbd-b753-53b2c8a1add1",
   "metadata": {},
   "source": [
    "## Ajustements et extrapolations\n",
    "\n",
    "Nous allons comparer ici la pluie centennale à Davos obtenue par extrapolation grâce aux quatre méthodes vues en cours, à savoir :\n",
    "\n",
    "- **Méthodes à seuils:** Méthode du renouvellement et loi généralisée de Pareto\n",
    "- **Méthodes par blocs :** Méthodes des moments et du maximum de vraisemblance"
   ]
  },
  {
   "cell_type": "code",
   "execution_count": null,
   "id": "d521958d-67ca-45b9-8497-2cce293b7170",
   "metadata": {},
   "outputs": [],
   "source": [
    "%load_ext jupyter_black"
   ]
  },
  {
   "cell_type": "markdown",
   "id": "0d39b10f-b0a2-48c7-9213-5f216ed2040b",
   "metadata": {},
   "source": [
    "## **1. Méthode du renouvellement**\n",
    "\n",
    "On rappelle que la méthode du renouvellement cherche à représenter les évènements extrêmes grâce à une loi de Poisson (comptabilisant le nombre d'évènements pour une période donnée) et une loi exponentielle (traduisant la distribution de ces évènements dans le temps). \n",
    "\n",
    "Pour une période de retour $T$ très grande, on obtient le quantile en fonction de la période de retour grâce à la formule suivante:\n",
    "\n",
    "\\begin{equation*}\n",
    "C=s+\\frac{\\mbox{ln}\\lambda}{\\mu}+\\frac{1}{\\mu}\\mbox{ln}T+O(T^{-1})\n",
    "\\label{eq:1} \\tag{1}\n",
    "\\end{equation*}\n",
    "\n",
    "Avec les paramètres :\n",
    "- $\\lambda=n_s/n_a$\n",
    "- $\\mu=1/(\\tilde{C}-s)$\n",
    "1. Tracer l'histogramme des précipitations à Davos couvrant $n_a$ années et déterminer à priori une valeur $s$ du seuil possible. Ne retenir que les $n_s$ précipitations dépassant le seuil par la suite. `[sns.histplot]`\n",
    "\n",
    "**Solution:**  "
   ]
  },
  {
   "cell_type": "code",
   "execution_count": null,
   "id": "0049fbc1-bb31-495a-a21c-5502551cbfcf",
   "metadata": {},
   "outputs": [],
   "source": []
  },
  {
   "cell_type": "markdown",
   "id": "2c299f9b-71c3-4b7e-9cde-59eb3a3f6216",
   "metadata": {},
   "source": [
    "2. Classer les valeurs de l'échantillon par ordre croissant et calculer $\\tilde{C}$, sa moyenne empirique. `[sort_values(), mean()]`\n",
    "\n",
    "**Solution:**  "
   ]
  },
  {
   "cell_type": "code",
   "execution_count": null,
   "id": "cf510d1e-0a69-452e-9af4-7bb401465a8c",
   "metadata": {},
   "outputs": [],
   "source": []
  },
  {
   "cell_type": "markdown",
   "id": "3c4fc409-e5a1-4622-897f-57a67432951c",
   "metadata": {},
   "source": [
    "3. A chaque valeur de l'échantillon de rang $i$, on affecte la période de retour :\n",
    "\n",
    "\\begin{equation*}\n",
    "T_i=\\frac{n_a}{n_s}\\frac{n_s+1}{i}\n",
    "\\label{eq:2} \\tag{2}\n",
    "\\end{equation*}\n",
    "\n",
    "> Make $i$ go from 1 to the length of the filtered values over the threshold. `[count(), nunique()]`\n",
    "\n",
    "**Solution:**  "
   ]
  },
  {
   "cell_type": "code",
   "execution_count": null,
   "id": "27623b61-2e6e-4a8c-a3d8-e3394e3f8ed8",
   "metadata": {},
   "outputs": [],
   "source": []
  },
  {
   "cell_type": "markdown",
   "id": "35d5f9e7-e2b2-426f-a32a-57823dd9f7c3",
   "metadata": {},
   "source": [
    "4. Calculer les paramètres $\\lambda$ et $\\mu$, puis tracer dans un diagramme $(T,C)$: La variation du quantile $C$ en fonction de la période de retour $T$, grâce à la l'équation 1. Comparer avec les valeurs empiriques. `Make a graph of Pluie vs Période de retour T [années]`\n",
    "\n",
    "**Solution:**  "
   ]
  },
  {
   "cell_type": "code",
   "execution_count": null,
   "id": "85749f16-26cf-4cf6-b030-35656a99ebbe",
   "metadata": {},
   "outputs": [],
   "source": []
  },
  {
   "cell_type": "markdown",
   "id": "005d9262-ef1f-4771-841b-c1e66d125b14",
   "metadata": {},
   "source": [
    "5. Quel est la valeur de la pluie centennale ? $C_{100}=$ \n",
    "\n",
    "**Solution:**  "
   ]
  },
  {
   "cell_type": "code",
   "execution_count": null,
   "id": "48ad2ee2-4be5-44c0-bf7a-3ae3acd1b5ec",
   "metadata": {},
   "outputs": [],
   "source": []
  },
  {
   "cell_type": "markdown",
   "id": "e6e286af-32e2-4be2-938e-8e468095b449",
   "metadata": {},
   "source": [
    "6. Changer le seuil tel que $s_2>s$ puis $s_3<s$, et tracer les lois obtenues sur la même fenêtre. Quelle influence cela a t-il sur l'extrapolation? Comment choisir un « bon~» seuil selon vous? \n",
    "\n",
    "**Solution:**  "
   ]
  },
  {
   "cell_type": "code",
   "execution_count": null,
   "id": "d0e498ca-905b-4755-8330-523c1696ac9c",
   "metadata": {},
   "outputs": [],
   "source": []
  },
  {
   "cell_type": "markdown",
   "id": "c38a8b5b-0315-4c52-96bc-1cb34197f8fb",
   "metadata": {},
   "source": [
    "---"
   ]
  },
  {
   "cell_type": "markdown",
   "id": "4bfe9c0a-f835-4fbf-98e9-9dfe2dd1700b",
   "metadata": {},
   "source": [
    "## 2. Loi de Pareto\n",
    ">_*Vilfredo Pareto, né le 15 juillet 1848 à Paris et mort le 19 août 1923 à Céligny (Suisse), est un sociologue et économiste italien. Il demeure célèbre pour son observation des 20 \\% de la population qui possèdent 80 \\% des richesses en Italie, généralisée plus tard en distribution de Pareto. Cette observation a été étendue à d'autres domaines sous le terme de « principe de Pareto ».  Il définit la notion d'optimum paretien comme une situation d'ensemble dans laquelle un individu ne peut améliorer sa situation sans détériorer celle d'un autre individu.*_\n",
    "\n",
    "La loi de Pareto s'exprime ainsi :\n",
    "\n",
    "$$\n",
    " G(x)=1-{\\left(1+\\frac{\\tilde{\\xi}x}{\\tilde{\\sigma}}\\right)}^{-1/\\tilde{\\xi}} \\tag{3}\n",
    "$$\n",
    "\n",
    "On cherche à déterminer ses paramètres. On peut obtenir que pour tout seuil $s>s_0$, l'équation suivante est vérifiée :\n",
    "\n",
    "$$\n",
    "E[X-s|X>s] = \\frac{\\tilde{\\sigma_s}}{1-\\tilde{\\xi}} = \\frac{\\tilde{\\sigma_{s_0}} +\n",
    "\\tilde{\\xi}(s-s_0)}{1-\\tilde{\\xi}} =  \\frac{\\tilde{\\sigma_{s_0}}-\\tilde{\\xi}\\cdot s_0}{1-\\tilde{\\xi}}+ \\frac{\\tilde{\\xi}}{1-\\tilde{\\xi}}\\cdot s \\tag{4}\n",
    "$$\n",
    "\n",
    "$\\tilde{\\xi}/(1-\\tilde{\\xi})$ est donc la pente et $(\\tilde{\\sigma_{s_0}} - \\tilde{\\xi}s_0)/(1-\\tilde{\\xi})$ l'ordonnée à l'origine de la fonction $f(s)=E[X-s|X>s]$ "
   ]
  },
  {
   "cell_type": "markdown",
   "id": "68726ad7-39e5-4dd5-a9c4-0f04ffb4239f",
   "metadata": {},
   "source": [
    "1. Tracer $E(X-s|X>s)$ en fonction de $s$ et déterminer a priori sur quel domaine le paramètre $\\tilde{\\xi}$ pourra être ajusté. *(calculer la moyenne de la distance des valeurs qui dépassent le seuil par rapport à ce même seuil)*. `[mean()]`\n",
    "\n",
    "> Calcul de la moyenne (i.e. de l'espérence $E$) de $X-s$ sachant que $X>s$ $\\rightarrow$ $(E(X-s|X>s)$) pour différentes valeurs de seuil s, X étant la variable aléatoire donnant les pluies journalières.\n",
    "\n",
    "**Solution:**  "
   ]
  },
  {
   "cell_type": "code",
   "execution_count": null,
   "id": "c120e439-8b4d-4947-a3c0-de2799a761b2",
   "metadata": {},
   "outputs": [],
   "source": []
  },
  {
   "cell_type": "markdown",
   "id": "b2e907e9-d414-489d-99fc-15fcc0268848",
   "metadata": {},
   "source": [
    "2. Pour un domaine fixé, calculer les paramètres de la loi de Pareto qui approchent le mieux cette distribution (vous pouvez utiliser la commande `np.polyfit`). Tracer la droite ajustée sur le même graphique que $f(s)$. A quelle type de loi de valeurs extrêmes peut-on comparer la loi de Pareto ?\n",
    "\n",
    "> Ajustement des paramètres de la loi de Pareto par une régression linéaire sur la fonction $E(X-s|X>s)$.\n",
    "\n",
    "**Solution:**  "
   ]
  },
  {
   "cell_type": "code",
   "execution_count": null,
   "id": "540c9e1f-3e2c-482b-96e6-e71a16e26fbd",
   "metadata": {},
   "outputs": [],
   "source": []
  },
  {
   "cell_type": "markdown",
   "id": "a00a2027-a1e4-4036-96be-e4f4fa1d0860",
   "metadata": {},
   "source": [
    "3. Tracer le quantile $x_{p}(T)$ ainsi ajusté et comparer le aux données de l'échantillon.\n",
    "\n",
    "$$si\\,\\,\\, \\tilde{\\xi}\\ne 0, x_p(T) = s+ \\frac{\\tilde{\\sigma}}{\\tilde{\\xi}}\\left(\\left(T\\frac{n_s}{n_a}\\right)^{\\tilde{\\xi}}-1\\right)$$\n",
    "\n",
    "$$si\\,\\,\\, \\tilde{\\xi} =0, x_p(T) = s+\\tilde{\\sigma}\\mbox{ln}\\left(T\\frac{n_s}{n_a}\\right) \\tag{5}$$\n",
    "\n",
    "**Solution:**  "
   ]
  },
  {
   "cell_type": "code",
   "execution_count": null,
   "id": "90038bed-5b85-4871-b452-03867e216211",
   "metadata": {},
   "outputs": [],
   "source": []
  },
  {
   "cell_type": "markdown",
   "id": "200327b9-71b8-4b49-816a-90bc3056e516",
   "metadata": {},
   "source": [
    "4. Ajuster maintenant les paramètres de la loi de Pareto grâce à la méthode d'optimisation de votre choix (max. de vraisemblance, Hasting-Metropolis, méthode des moments, etc.) pour 3 seuils différents  [`[stats.genpareto,`](https://docs.scipy.org/doc/scipy/reference/generated/scipy.stats.genpareto.html#scipy.stats.genpareto)`fit()]`\n",
    "\n",
    "> **Attention!** Les valeurs à ajuster selon cette loi sont les pluies $P_0$ qui sont supérieures au seuil moins la valeur du seuil $s_0$.\n",
    "\n",
    "**Solution:**  "
   ]
  },
  {
   "cell_type": "code",
   "execution_count": null,
   "id": "1338a261-a24f-4853-a22d-fa59fd57e255",
   "metadata": {},
   "outputs": [],
   "source": []
  },
  {
   "cell_type": "markdown",
   "id": "2dc9c926-bdca-4804-88b0-521bc39f0697",
   "metadata": {},
   "source": [
    "5. Reproduire ces résultats sur un même graphique et les comparer (quantiles théoriques, quantiles empiriques, quantiles théoriques avec la méthode d'optimisation).\n",
    "\n",
    "**Solution:**  "
   ]
  },
  {
   "cell_type": "code",
   "execution_count": null,
   "id": "bfc02b02-fb0c-47fa-8604-20ae69729c77",
   "metadata": {},
   "outputs": [],
   "source": []
  },
  {
   "cell_type": "markdown",
   "id": "7d41408f-26a2-4422-a52f-408a53793ec9",
   "metadata": {},
   "source": [
    "6. Donner la valeur du quantile extrapolé $C_{100}=$ \n",
    "\n",
    "> Use the parameters obtained with both the linear fit and distribution fit.\n",
    "\n",
    "**Solution:**  "
   ]
  },
  {
   "cell_type": "code",
   "execution_count": null,
   "id": "882125bc-1aa1-4458-955a-9cc66d3b6e3b",
   "metadata": {},
   "outputs": [],
   "source": []
  },
  {
   "cell_type": "markdown",
   "id": "e48af614-2c13-4ec9-8729-2a341df87df7",
   "metadata": {},
   "source": [
    "---"
   ]
  },
  {
   "cell_type": "markdown",
   "id": "f85a411e-b7a8-445a-9aec-6980690789ce",
   "metadata": {},
   "source": [
    "lll## 3. Maximum de vraisemblance\n",
    "1. Calculer les maxima annuels. `[df.groupby(), max()]`\n",
    "\n",
    "**Solution:**  "
   ]
  },
  {
   "cell_type": "code",
   "execution_count": null,
   "id": "2128d1c7-4dd5-4e2b-9fc5-69f204dca49b",
   "metadata": {},
   "outputs": [],
   "source": []
  },
  {
   "cell_type": "markdown",
   "id": "eb207060-39de-4853-a1b0-f4aa92a84402",
   "metadata": {},
   "source": [
    "2. Ajuster une loi de valeurs extrêmes grâce au maximum de vraisemblance. [`[scipy.stats.genextreme,`](https://docs.scipy.org/doc/scipy/reference/generated/scipy.stats.genextreme.html)`fit(), cdf(),`[`statsmodels.distributions.empirical_distribution.ECDF]`](https://www.statsmodels.org/dev/generated/statsmodels.distributions.empirical_distribution.ECDF.html)\n",
    "\n",
    "> Remember that:  $T=\\dfrac{1}{1-genextreme.cdf(X)}$\n",
    "\n",
    "**Solution:**  "
   ]
  },
  {
   "cell_type": "code",
   "execution_count": null,
   "id": "e8951f1f-e13b-48d6-ba46-d7edf2aafa19",
   "metadata": {},
   "outputs": [],
   "source": []
  },
  {
   "cell_type": "markdown",
   "id": "a9610ed7-4005-4bc6-b3b6-6c234597d0f9",
   "metadata": {},
   "source": [
    "3. Tracer sur la même figure, le quantile obtenu $x_{ev}(T)$ via la méthode par bloc et les quantiles $x_{p}(T)$ et $C_s(T)$ obtenus via les méthodes à seuil. Conclure.\n",
    "\n",
    "**Solution:**  "
   ]
  },
  {
   "cell_type": "code",
   "execution_count": null,
   "id": "f56301d3-38cf-4924-85dd-b21eac8e0ea8",
   "metadata": {},
   "outputs": [],
   "source": []
  }
 ],
 "metadata": {
  "kernelspec": {
   "display_name": "Python",
   "language": "python",
   "name": "python3"
  },
  "language_info": {
   "codemirror_mode": {
    "name": "ipython",
    "version": 3
   },
   "file_extension": ".py",
   "mimetype": "text/x-python",
   "name": "python",
   "nbconvert_exporter": "python",
   "pygments_lexer": "ipython3",
   "version": "3.8.10"
  }
 },
 "nbformat": 4,
 "nbformat_minor": 5
}
